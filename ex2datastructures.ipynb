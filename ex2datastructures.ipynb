{
  "nbformat": 4,
  "nbformat_minor": 0,
  "metadata": {
    "colab": {
      "name": "ex2datastructures.ipynb",
      "provenance": [],
      "collapsed_sections": [],
      "authorship_tag": "ABX9TyOuhKq15hOzZuAWdWAjz+Ch",
      "include_colab_link": true
    },
    "kernelspec": {
      "name": "python3",
      "display_name": "Python 3"
    },
    "language_info": {
      "name": "python"
    }
  },
  "cells": [
    {
      "cell_type": "markdown",
      "metadata": {
        "id": "view-in-github",
        "colab_type": "text"
      },
      "source": [
        "<a href=\"https://colab.research.google.com/github/snanditachn/Nandita.S_cts/blob/main/ex2datastructures.ipynb\" target=\"_parent\"><img src=\"https://colab.research.google.com/assets/colab-badge.svg\" alt=\"Open In Colab\"/></a>"
      ]
    },
    {
      "cell_type": "markdown",
      "source": [
        "# **LIST**"
      ],
      "metadata": {
        "id": "mw3HdDC2S-1H"
      }
    },
    {
      "cell_type": "markdown",
      "source": [
        "\n",
        "\n",
        "# *created a list named mylist*\n",
        "\n",
        "\n"
      ],
      "metadata": {
        "id": "O-QRH1kVqCY7"
      }
    },
    {
      "cell_type": "code",
      "source": [
        "mylist=[1,5,77,55,'nandy','gyro']\n",
        "print(mylist)"
      ],
      "metadata": {
        "colab": {
          "base_uri": "https://localhost:8080/"
        },
        "id": "Bl4lX-5rp-mH",
        "outputId": "6560f72a-6412-49a9-b119-bda77de9636d"
      },
      "execution_count": 11,
      "outputs": [
        {
          "output_type": "stream",
          "name": "stdout",
          "text": [
            "[1, 5, 77, 55, 'nandy', 'gyro']\n"
          ]
        }
      ]
    },
    {
      "cell_type": "markdown",
      "source": [
        "# **use append() -> adds items to mylist**"
      ],
      "metadata": {
        "id": "pf79LhJxqKhQ"
      }
    },
    {
      "cell_type": "code",
      "source": [
        "mylist.append('dog')\n",
        "print(mylist)"
      ],
      "metadata": {
        "colab": {
          "base_uri": "https://localhost:8080/"
        },
        "id": "D-SbtWP_qTMr",
        "outputId": "fbf805b4-ae11-4902-e828-ffe122a11288"
      },
      "execution_count": 12,
      "outputs": [
        {
          "output_type": "stream",
          "name": "stdout",
          "text": [
            "[1, 5, 77, 55, 'nandy', 'gyro', 'dog']\n"
          ]
        }
      ]
    },
    {
      "cell_type": "markdown",
      "source": [
        "# **clear() ->Removes all the elements from mylist**"
      ],
      "metadata": {
        "id": "wzExhXJlqdGH"
      }
    },
    {
      "cell_type": "code",
      "source": [
        "mylist.clear()\n",
        "print(mylist)"
      ],
      "metadata": {
        "colab": {
          "base_uri": "https://localhost:8080/"
        },
        "id": "DS-ks9Gwqbpf",
        "outputId": "bb132e02-ff0f-46aa-f719-b658da813642"
      },
      "execution_count": 14,
      "outputs": [
        {
          "output_type": "stream",
          "name": "stdout",
          "text": [
            "[]\n"
          ]
        }
      ]
    },
    {
      "cell_type": "markdown",
      "source": [
        "# **copy() -> returns copy of mylist**"
      ],
      "metadata": {
        "id": "sJFDnWZ4rGaH"
      }
    },
    {
      "cell_type": "code",
      "source": [
        "mylist.copy()"
      ],
      "metadata": {
        "colab": {
          "base_uri": "https://localhost:8080/"
        },
        "id": "97rl7yolq8tv",
        "outputId": "536896f0-6f57-43c4-9b2e-5e863858744b"
      },
      "execution_count": 16,
      "outputs": [
        {
          "output_type": "execute_result",
          "data": {
            "text/plain": [
              "[]"
            ]
          },
          "metadata": {},
          "execution_count": 16
        }
      ]
    },
    {
      "cell_type": "markdown",
      "source": [
        "# *As we have removed elements from list, we get a empty list*\n",
        "# *So lets create a list again, naming it 'new' *italicised text*"
      ],
      "metadata": {
        "id": "AZWyD0Q3rW9p"
      }
    },
    {
      "cell_type": "code",
      "source": [
        "new=[1,3,5,8,29,45,100]\n",
        "print(new)"
      ],
      "metadata": {
        "colab": {
          "base_uri": "https://localhost:8080/"
        },
        "id": "Kl3ueaulrTxp",
        "outputId": "521e559e-5116-45e5-af59-19065f6a3c68"
      },
      "execution_count": 17,
      "outputs": [
        {
          "output_type": "stream",
          "name": "stdout",
          "text": [
            "[1, 3, 5, 8, 29, 45, 100]\n"
          ]
        }
      ]
    },
    {
      "cell_type": "markdown",
      "source": [
        "# **count() ->bold text Returns the number of elements with the specified value**"
      ],
      "metadata": {
        "id": "rC7zjLnFsGVl"
      }
    },
    {
      "cell_type": "code",
      "source": [
        "new.count(3)"
      ],
      "metadata": {
        "colab": {
          "base_uri": "https://localhost:8080/"
        },
        "id": "ZE6DJsHQr4Qo",
        "outputId": "dfb2647c-d7d1-4480-a770-a251d0aef4f4"
      },
      "execution_count": 19,
      "outputs": [
        {
          "output_type": "execute_result",
          "data": {
            "text/plain": [
              "1"
            ]
          },
          "metadata": {},
          "execution_count": 19
        }
      ]
    },
    {
      "cell_type": "markdown",
      "source": [
        "# **extend() ->Add the elements of a list (or any iterable), to the end of the current list**"
      ],
      "metadata": {
        "id": "Tla7H3Ldtf-N"
      }
    },
    {
      "cell_type": "code",
      "source": [
        "old=[1,3,4,2,9]       #created a list named old to extend in our list named new\n",
        "new.extend(old)"
      ],
      "metadata": {
        "id": "ID1mISZ-s_2U"
      },
      "execution_count": 20,
      "outputs": []
    },
    {
      "cell_type": "code",
      "source": [
        "print(new)"
      ],
      "metadata": {
        "colab": {
          "base_uri": "https://localhost:8080/"
        },
        "id": "3h2xDmqZuEQL",
        "outputId": "b7faa8b0-4a4a-4eb8-b4e2-e3e448c7359e"
      },
      "execution_count": 21,
      "outputs": [
        {
          "output_type": "stream",
          "name": "stdout",
          "text": [
            "[1, 3, 5, 8, 29, 45, 100, 1, 3, 4, 2, 9]\n"
          ]
        }
      ]
    },
    {
      "cell_type": "markdown",
      "source": [
        "# **index() ->Returns the index of the first element with the specified value**"
      ],
      "metadata": {
        "id": "-h13PhamudNQ"
      }
    },
    {
      "cell_type": "code",
      "source": [
        "new.index(100)"
      ],
      "metadata": {
        "colab": {
          "base_uri": "https://localhost:8080/"
        },
        "id": "aJy4W-TVuG6E",
        "outputId": "8fe64a5a-97b8-4635-e6b8-2d6f03be1b06"
      },
      "execution_count": 22,
      "outputs": [
        {
          "output_type": "execute_result",
          "data": {
            "text/plain": [
              "6"
            ]
          },
          "metadata": {},
          "execution_count": 22
        }
      ]
    },
    {
      "cell_type": "markdown",
      "source": [
        "# **insert() ->Adds an element at the specified position**"
      ],
      "metadata": {
        "id": "ri296Becvorm"
      }
    },
    {
      "cell_type": "code",
      "source": [
        "new.insert(4,'5.5')          #to add 5.5 in the index 4\n",
        "print(new)"
      ],
      "metadata": {
        "colab": {
          "base_uri": "https://localhost:8080/"
        },
        "id": "-vK2r4xcvidc",
        "outputId": "ceba8fd1-aee5-4bd8-eca2-46f00e4b9acb"
      },
      "execution_count": 23,
      "outputs": [
        {
          "output_type": "stream",
          "name": "stdout",
          "text": [
            "[1, 3, 5, 8, '5.5', 29, 45, 100, 1, 3, 4, 2, 9]\n"
          ]
        }
      ]
    },
    {
      "cell_type": "markdown",
      "source": [
        "# **pop() ->Removes the element at the specified position**"
      ],
      "metadata": {
        "id": "XOJdrrk6wUHM"
      }
    },
    {
      "cell_type": "code",
      "source": [
        "new.pop(4)                 #removes the value in index 4\n",
        "print(new)"
      ],
      "metadata": {
        "colab": {
          "base_uri": "https://localhost:8080/"
        },
        "id": "krrsyP3GwFCF",
        "outputId": "aeddad8c-aa84-4dd1-e31b-957848e5f8f5"
      },
      "execution_count": 24,
      "outputs": [
        {
          "output_type": "stream",
          "name": "stdout",
          "text": [
            "[1, 3, 5, 8, 29, 45, 100, 1, 3, 4, 2, 9]\n"
          ]
        }
      ]
    },
    {
      "cell_type": "markdown",
      "source": [
        "# **remove() ->Removes the item with the specified value**"
      ],
      "metadata": {
        "id": "0zs6gUApwv9o"
      }
    },
    {
      "cell_type": "code",
      "source": [
        "new.remove(45)            #removes the given value from the list\n",
        "print(new)"
      ],
      "metadata": {
        "colab": {
          "base_uri": "https://localhost:8080/"
        },
        "id": "jHw0L9G8wocV",
        "outputId": "9db8f6a1-1982-4a98-80f2-ea7c47917056"
      },
      "execution_count": 25,
      "outputs": [
        {
          "output_type": "stream",
          "name": "stdout",
          "text": [
            "[1, 3, 5, 8, 29, 100, 1, 3, 4, 2, 9]\n"
          ]
        }
      ]
    },
    {
      "cell_type": "markdown",
      "source": [
        "# **reverse() ->Reverses the order of the list**"
      ],
      "metadata": {
        "id": "fnBeVVkpxJzp"
      }
    },
    {
      "cell_type": "code",
      "source": [
        "new.reverse()\n",
        "new"
      ],
      "metadata": {
        "colab": {
          "base_uri": "https://localhost:8080/"
        },
        "id": "XMX6MeTyxBFQ",
        "outputId": "9668e98c-9717-4b3f-f564-3cc51f8a1c2a"
      },
      "execution_count": 26,
      "outputs": [
        {
          "output_type": "execute_result",
          "data": {
            "text/plain": [
              "[9, 2, 4, 3, 1, 100, 29, 8, 5, 3, 1]"
            ]
          },
          "metadata": {},
          "execution_count": 26
        }
      ]
    },
    {
      "cell_type": "markdown",
      "source": [
        "# **sort() ->Sorts/arranges the list**"
      ],
      "metadata": {
        "id": "lHOCw19_xdK8"
      }
    },
    {
      "cell_type": "code",
      "source": [
        "new.sort()\n",
        "new"
      ],
      "metadata": {
        "colab": {
          "base_uri": "https://localhost:8080/"
        },
        "id": "ub7POWpjxgvr",
        "outputId": "9eca650e-06a3-4242-824f-2b51cd4555b5"
      },
      "execution_count": 27,
      "outputs": [
        {
          "output_type": "execute_result",
          "data": {
            "text/plain": [
              "[1, 1, 2, 3, 3, 4, 5, 8, 9, 29, 100]"
            ]
          },
          "metadata": {},
          "execution_count": 27
        }
      ]
    },
    {
      "cell_type": "markdown",
      "source": [
        "# **SET**"
      ],
      "metadata": {
        "id": "yudpzZY5TH8_"
      }
    },
    {
      "cell_type": "markdown",
      "source": [
        "\n",
        "\n",
        "# *create a set*"
      ],
      "metadata": {
        "id": "9iE9OJfgyAwx"
      }
    },
    {
      "cell_type": "code",
      "source": [
        "myset={1,4,2,4,6,7,88,44,50,60,60,7,30}\n",
        "myset"
      ],
      "metadata": {
        "colab": {
          "base_uri": "https://localhost:8080/"
        },
        "id": "nhz3rzJmxodg",
        "outputId": "2986d85f-c388-4aa2-a168-d76d25848ea7"
      },
      "execution_count": 28,
      "outputs": [
        {
          "output_type": "execute_result",
          "data": {
            "text/plain": [
              "{1, 2, 4, 6, 7, 30, 44, 50, 60, 88}"
            ]
          },
          "metadata": {},
          "execution_count": 28
        }
      ]
    },
    {
      "cell_type": "markdown",
      "source": [
        "# **add() ->Adds an element to the set**"
      ],
      "metadata": {
        "id": "S3f_Cegly1rm"
      }
    },
    {
      "cell_type": "code",
      "source": [
        "myset.add(100)\n",
        "myset"
      ],
      "metadata": {
        "colab": {
          "base_uri": "https://localhost:8080/"
        },
        "id": "ZOa5Tb01y0Qp",
        "outputId": "eaf94168-805b-40ac-d165-d98794a5af1d"
      },
      "execution_count": 29,
      "outputs": [
        {
          "output_type": "execute_result",
          "data": {
            "text/plain": [
              "{1, 2, 4, 6, 7, 30, 44, 50, 60, 88, 100}"
            ]
          },
          "metadata": {},
          "execution_count": 29
        }
      ]
    },
    {
      "cell_type": "markdown",
      "source": [
        "# **copy() ->Returns a copy of the set**"
      ],
      "metadata": {
        "id": "OPVPNKVUzbiM"
      }
    },
    {
      "cell_type": "code",
      "source": [
        "myset.copy()"
      ],
      "metadata": {
        "colab": {
          "base_uri": "https://localhost:8080/"
        },
        "id": "lwbs6EiXzULI",
        "outputId": "d6192828-4d56-494c-b623-54f3c1fbd626"
      },
      "execution_count": 30,
      "outputs": [
        {
          "output_type": "execute_result",
          "data": {
            "text/plain": [
              "{1, 2, 4, 6, 7, 30, 44, 50, 60, 88, 100}"
            ]
          },
          "metadata": {},
          "execution_count": 30
        }
      ]
    },
    {
      "cell_type": "markdown",
      "source": [
        "# *creating 2 more sets*"
      ],
      "metadata": {
        "id": "1Iu-T9CVzwWq"
      }
    },
    {
      "cell_type": "code",
      "source": [
        "s1={1,4,8,12}"
      ],
      "metadata": {
        "id": "qV4AQjiOzjKI"
      },
      "execution_count": 31,
      "outputs": []
    },
    {
      "cell_type": "code",
      "source": [
        "s2={3,5,7,9}"
      ],
      "metadata": {
        "id": "xksaFHri0Ask"
      },
      "execution_count": 32,
      "outputs": []
    },
    {
      "cell_type": "markdown",
      "source": [
        "# **clear() ->Removes all the elements from the set**"
      ],
      "metadata": {
        "id": "kN2VPLNW0IZ1"
      }
    },
    {
      "cell_type": "code",
      "source": [
        "s2.clear()\n",
        "s2"
      ],
      "metadata": {
        "colab": {
          "base_uri": "https://localhost:8080/"
        },
        "id": "9BD-CHuq0GE3",
        "outputId": "c62b5af6-514e-4f3b-e38a-8d72581dfd9d"
      },
      "execution_count": 33,
      "outputs": [
        {
          "output_type": "execute_result",
          "data": {
            "text/plain": [
              "set()"
            ]
          },
          "metadata": {},
          "execution_count": 33
        }
      ]
    },
    {
      "cell_type": "markdown",
      "source": [
        "# **difference() ->Returns a set containing the difference between two or more sets**"
      ],
      "metadata": {
        "id": "XuEfE3kj0Y_J"
      }
    },
    {
      "cell_type": "code",
      "source": [
        "myset"
      ],
      "metadata": {
        "colab": {
          "base_uri": "https://localhost:8080/"
        },
        "id": "p3XL4Opt0TVx",
        "outputId": "b816bbb5-dba2-4bd1-8a34-7b9b11286d17"
      },
      "execution_count": 34,
      "outputs": [
        {
          "output_type": "execute_result",
          "data": {
            "text/plain": [
              "{1, 2, 4, 6, 7, 30, 44, 50, 60, 88, 100}"
            ]
          },
          "metadata": {},
          "execution_count": 34
        }
      ]
    },
    {
      "cell_type": "code",
      "source": [
        "s1"
      ],
      "metadata": {
        "colab": {
          "base_uri": "https://localhost:8080/"
        },
        "id": "tKllC6U70ozY",
        "outputId": "8744e3a7-7df4-4ed0-ae69-d8d41b737062"
      },
      "execution_count": 35,
      "outputs": [
        {
          "output_type": "execute_result",
          "data": {
            "text/plain": [
              "{1, 4, 8, 12}"
            ]
          },
          "metadata": {},
          "execution_count": 35
        }
      ]
    },
    {
      "cell_type": "code",
      "source": [
        "s3=myset.difference(s1)           #difference btw myset and s1 will be s3\n",
        "s3"
      ],
      "metadata": {
        "colab": {
          "base_uri": "https://localhost:8080/"
        },
        "id": "AiNOYaFK0p7S",
        "outputId": "1f65764c-97a0-4d8e-d50b-0b29e96c6000"
      },
      "execution_count": 36,
      "outputs": [
        {
          "output_type": "execute_result",
          "data": {
            "text/plain": [
              "{2, 6, 7, 30, 44, 50, 60, 88, 100}"
            ]
          },
          "metadata": {},
          "execution_count": 36
        }
      ]
    },
    {
      "cell_type": "markdown",
      "source": [
        "# **difference_update() ->Removes the items in this set that are also included in another, specified set**"
      ],
      "metadata": {
        "id": "xz60Ydq01DGS"
      }
    },
    {
      "cell_type": "code",
      "source": [
        "myset.difference_update(s1)           #gives the difference without creating a new set"
      ],
      "metadata": {
        "id": "Kf3ZGrrl03GH"
      },
      "execution_count": 37,
      "outputs": []
    },
    {
      "cell_type": "code",
      "source": [
        "myset"
      ],
      "metadata": {
        "colab": {
          "base_uri": "https://localhost:8080/"
        },
        "id": "YRx8LCOK1XVe",
        "outputId": "c14c7f62-a5d5-419e-ec05-c32cac1aeffe"
      },
      "execution_count": 38,
      "outputs": [
        {
          "output_type": "execute_result",
          "data": {
            "text/plain": [
              "{2, 6, 7, 30, 44, 50, 60, 88, 100}"
            ]
          },
          "metadata": {},
          "execution_count": 38
        }
      ]
    },
    {
      "cell_type": "markdown",
      "source": [
        "# **discard() ->Remove the specified item**"
      ],
      "metadata": {
        "id": "rKCPm66l1ivc"
      }
    },
    {
      "cell_type": "code",
      "source": [
        "myset.discard(60)\n",
        "myset"
      ],
      "metadata": {
        "colab": {
          "base_uri": "https://localhost:8080/"
        },
        "id": "0LnW2BJh1aBm",
        "outputId": "adbf14ad-e2fa-4025-e13a-c7da99b806d3"
      },
      "execution_count": 39,
      "outputs": [
        {
          "output_type": "execute_result",
          "data": {
            "text/plain": [
              "{2, 6, 7, 30, 44, 50, 88, 100}"
            ]
          },
          "metadata": {},
          "execution_count": 39
        }
      ]
    },
    {
      "cell_type": "markdown",
      "source": [
        "# **intersection() ->Returns a set, that is the intersection of two other sets**"
      ],
      "metadata": {
        "id": "_vu4ywhc16PI"
      }
    },
    {
      "cell_type": "code",
      "source": [
        "myset"
      ],
      "metadata": {
        "colab": {
          "base_uri": "https://localhost:8080/"
        },
        "id": "t9PdiRLb1wTv",
        "outputId": "3a4aa583-1a0b-448b-ddc9-be8b1ecabe90"
      },
      "execution_count": 40,
      "outputs": [
        {
          "output_type": "execute_result",
          "data": {
            "text/plain": [
              "{2, 6, 7, 30, 44, 50, 88, 100}"
            ]
          },
          "metadata": {},
          "execution_count": 40
        }
      ]
    },
    {
      "cell_type": "code",
      "source": [
        "urset={3,6,9,44,78,98,7}\n",
        "urset"
      ],
      "metadata": {
        "colab": {
          "base_uri": "https://localhost:8080/"
        },
        "id": "IYQKn64I3PIP",
        "outputId": "fcbc13fb-9576-4db2-b3ff-51adf6a22994"
      },
      "execution_count": 43,
      "outputs": [
        {
          "output_type": "execute_result",
          "data": {
            "text/plain": [
              "{3, 6, 7, 9, 44, 78, 98}"
            ]
          },
          "metadata": {},
          "execution_count": 43
        }
      ]
    },
    {
      "cell_type": "code",
      "source": [
        "intset= myset.intersection(urset)\n",
        "intset"
      ],
      "metadata": {
        "colab": {
          "base_uri": "https://localhost:8080/"
        },
        "id": "RLjNsFkq3ewO",
        "outputId": "3dbf2844-d825-45da-c0bb-4880982ee125"
      },
      "execution_count": 44,
      "outputs": [
        {
          "output_type": "execute_result",
          "data": {
            "text/plain": [
              "{6, 7, 44}"
            ]
          },
          "metadata": {},
          "execution_count": 44
        }
      ]
    },
    {
      "cell_type": "markdown",
      "source": [
        "# **intersection_update() ->Removes the items in this set that are not present in other, specified set(s)**"
      ],
      "metadata": {
        "id": "boztpmUf3uqR"
      }
    },
    {
      "cell_type": "code",
      "source": [
        "myset.intersection_update(urset)\n",
        "myset"
      ],
      "metadata": {
        "colab": {
          "base_uri": "https://localhost:8080/"
        },
        "id": "KahxGRin3tH_",
        "outputId": "cf8432d0-56c9-4509-f61b-350f22553cbf"
      },
      "execution_count": 46,
      "outputs": [
        {
          "output_type": "execute_result",
          "data": {
            "text/plain": [
              "{6, 7, 44}"
            ]
          },
          "metadata": {},
          "execution_count": 46
        }
      ]
    },
    {
      "cell_type": "markdown",
      "source": [
        "# **isdisjoint() ->Returns whether two sets have a intersection or not**"
      ],
      "metadata": {
        "id": "S5rMC7EF4BR8"
      }
    },
    {
      "cell_type": "code",
      "source": [
        "j1={4,6,7,8,5}\n",
        "j1"
      ],
      "metadata": {
        "colab": {
          "base_uri": "https://localhost:8080/"
        },
        "id": "J57-1AH24e3T",
        "outputId": "a74ff0a7-a901-43f5-ccb5-eacb862aa50c"
      },
      "execution_count": 47,
      "outputs": [
        {
          "output_type": "execute_result",
          "data": {
            "text/plain": [
              "{4, 5, 6, 7, 8}"
            ]
          },
          "metadata": {},
          "execution_count": 47
        }
      ]
    },
    {
      "cell_type": "code",
      "source": [
        "j2 = myset.isdisjoint(j1)\n",
        "j2"
      ],
      "metadata": {
        "colab": {
          "base_uri": "https://localhost:8080/"
        },
        "id": "ergG5vH33_wm",
        "outputId": "98428e3f-48d3-43fb-af33-e2cf910e1d85"
      },
      "execution_count": 48,
      "outputs": [
        {
          "output_type": "execute_result",
          "data": {
            "text/plain": [
              "False"
            ]
          },
          "metadata": {},
          "execution_count": 48
        }
      ]
    },
    {
      "cell_type": "markdown",
      "source": [
        "# **issubset() ->Returns whether another set contains this set or not**"
      ],
      "metadata": {
        "id": "4me_fFpu4wJX"
      }
    },
    {
      "cell_type": "code",
      "source": [
        "sub1={4,5,6}\n",
        "sub1"
      ],
      "metadata": {
        "colab": {
          "base_uri": "https://localhost:8080/"
        },
        "id": "U1vGJ8ob4oUi",
        "outputId": "5682a5f1-4d7b-43cb-ca6e-b70d2bbca954"
      },
      "execution_count": 49,
      "outputs": [
        {
          "output_type": "execute_result",
          "data": {
            "text/plain": [
              "{4, 5, 6}"
            ]
          },
          "metadata": {},
          "execution_count": 49
        }
      ]
    },
    {
      "cell_type": "code",
      "source": [
        "j1"
      ],
      "metadata": {
        "colab": {
          "base_uri": "https://localhost:8080/"
        },
        "id": "PZH6YAAs5C7t",
        "outputId": "ddcd0b44-9b9a-40af-c75b-4aa4e37969d2"
      },
      "execution_count": 50,
      "outputs": [
        {
          "output_type": "execute_result",
          "data": {
            "text/plain": [
              "{4, 5, 6, 7, 8}"
            ]
          },
          "metadata": {},
          "execution_count": 50
        }
      ]
    },
    {
      "cell_type": "code",
      "source": [
        "sub = sub1.issubset(j1)\n",
        "sub"
      ],
      "metadata": {
        "colab": {
          "base_uri": "https://localhost:8080/"
        },
        "id": "Gu-yPwLU5FU-",
        "outputId": "5f80a5e4-ab3d-41d4-d477-7d9f0722174e"
      },
      "execution_count": 51,
      "outputs": [
        {
          "output_type": "execute_result",
          "data": {
            "text/plain": [
              "True"
            ]
          },
          "metadata": {},
          "execution_count": 51
        }
      ]
    },
    {
      "cell_type": "markdown",
      "source": [
        "# **issuperset() ->Returns whether this set contains another set or not**"
      ],
      "metadata": {
        "id": "K6sIpPsp5Nci"
      }
    },
    {
      "cell_type": "code",
      "source": [
        "superset = j1.issuperset(sub1)\n",
        "superset"
      ],
      "metadata": {
        "colab": {
          "base_uri": "https://localhost:8080/"
        },
        "id": "2fBTFlpi5LzV",
        "outputId": "3bef652e-d9bb-4806-e129-5bf94c607fa1"
      },
      "execution_count": 52,
      "outputs": [
        {
          "output_type": "execute_result",
          "data": {
            "text/plain": [
              "True"
            ]
          },
          "metadata": {},
          "execution_count": 52
        }
      ]
    },
    {
      "cell_type": "markdown",
      "source": [
        "# **pop() ->Removes an element from the set**"
      ],
      "metadata": {
        "id": "AmXwk6NZ5iJ6"
      }
    },
    {
      "cell_type": "code",
      "source": [
        "p1={1,2,2,3,4,5,6,7,8,9,10}\n",
        "p1"
      ],
      "metadata": {
        "colab": {
          "base_uri": "https://localhost:8080/"
        },
        "id": "kMCcU0ug5yEn",
        "outputId": "59bf1875-e15e-49dd-a9ed-9b456bb265ba"
      },
      "execution_count": 59,
      "outputs": [
        {
          "output_type": "execute_result",
          "data": {
            "text/plain": [
              "{1, 2, 3, 4, 5, 6, 7, 8, 9, 10}"
            ]
          },
          "metadata": {},
          "execution_count": 59
        }
      ]
    },
    {
      "cell_type": "code",
      "source": [
        "p1.pop()             #removes the first element and shows it"
      ],
      "metadata": {
        "colab": {
          "base_uri": "https://localhost:8080/"
        },
        "id": "TBFOYYlC6P5v",
        "outputId": "6bb89119-7424-4275-db96-318e242de1db"
      },
      "execution_count": 60,
      "outputs": [
        {
          "output_type": "execute_result",
          "data": {
            "text/plain": [
              "1"
            ]
          },
          "metadata": {},
          "execution_count": 60
        }
      ]
    },
    {
      "cell_type": "code",
      "source": [
        "p= p1.pop()          #to return the removed elements in another set\n",
        "p"
      ],
      "metadata": {
        "colab": {
          "base_uri": "https://localhost:8080/"
        },
        "id": "6jIbxO1N6S8w",
        "outputId": "38439d5d-986c-4821-fc31-8570a8d599d9"
      },
      "execution_count": 61,
      "outputs": [
        {
          "output_type": "execute_result",
          "data": {
            "text/plain": [
              "2"
            ]
          },
          "metadata": {},
          "execution_count": 61
        }
      ]
    },
    {
      "cell_type": "code",
      "source": [
        "p1                  #the leftovers in set p1"
      ],
      "metadata": {
        "colab": {
          "base_uri": "https://localhost:8080/"
        },
        "id": "fI5O3tS26haE",
        "outputId": "e845cc04-2e06-4d39-c184-e6a4c34cc715"
      },
      "execution_count": 62,
      "outputs": [
        {
          "output_type": "execute_result",
          "data": {
            "text/plain": [
              "{3, 4, 5, 6, 7, 8, 9, 10}"
            ]
          },
          "metadata": {},
          "execution_count": 62
        }
      ]
    },
    {
      "cell_type": "markdown",
      "source": [
        "# **remove() ->Removes the specified element**"
      ],
      "metadata": {
        "id": "4p6Fr3XzGOgg"
      }
    },
    {
      "cell_type": "code",
      "source": [
        "p1"
      ],
      "metadata": {
        "colab": {
          "base_uri": "https://localhost:8080/"
        },
        "id": "nGT-mFwD6vj8",
        "outputId": "be7399b4-61cf-463e-8aa3-a7778c85c6bf"
      },
      "execution_count": 63,
      "outputs": [
        {
          "output_type": "execute_result",
          "data": {
            "text/plain": [
              "{3, 4, 5, 6, 7, 8, 9, 10}"
            ]
          },
          "metadata": {},
          "execution_count": 63
        }
      ]
    },
    {
      "cell_type": "code",
      "source": [
        "p1.remove(6)         #removes the element 6 from p1\n",
        "p1"
      ],
      "metadata": {
        "colab": {
          "base_uri": "https://localhost:8080/"
        },
        "id": "C-She2ElGYAJ",
        "outputId": "13b8adf9-0c6c-4851-d369-a1df96b334b9"
      },
      "execution_count": 64,
      "outputs": [
        {
          "output_type": "execute_result",
          "data": {
            "text/plain": [
              "{3, 4, 5, 7, 8, 9, 10}"
            ]
          },
          "metadata": {},
          "execution_count": 64
        }
      ]
    },
    {
      "cell_type": "markdown",
      "source": [
        "# **symmetric_difference() ->Returns a set with the symmetric differences of two sets**"
      ],
      "metadata": {
        "id": "EA08x5FeGsVj"
      }
    },
    {
      "cell_type": "code",
      "source": [
        "j1"
      ],
      "metadata": {
        "colab": {
          "base_uri": "https://localhost:8080/"
        },
        "id": "UiC2e9ObHW6C",
        "outputId": "9ae96f86-b40c-433d-a10c-e926ff8a6898"
      },
      "execution_count": 66,
      "outputs": [
        {
          "output_type": "execute_result",
          "data": {
            "text/plain": [
              "{4, 5, 6, 7, 8}"
            ]
          },
          "metadata": {},
          "execution_count": 66
        }
      ]
    },
    {
      "cell_type": "code",
      "source": [
        "p1"
      ],
      "metadata": {
        "colab": {
          "base_uri": "https://localhost:8080/"
        },
        "id": "zn6Vw5vVHjie",
        "outputId": "e7ae70bb-d4a1-43b8-8243-3d419b0b59dc"
      },
      "execution_count": 67,
      "outputs": [
        {
          "output_type": "execute_result",
          "data": {
            "text/plain": [
              "{3, 4, 5, 7, 8, 9, 10}"
            ]
          },
          "metadata": {},
          "execution_count": 67
        }
      ]
    },
    {
      "cell_type": "code",
      "source": [
        "symdiff = j1.symmetric_difference(p1)        #the change is shon in new set symdiff\n",
        "symdiff"
      ],
      "metadata": {
        "colab": {
          "base_uri": "https://localhost:8080/"
        },
        "id": "4wq2g89RGiiv",
        "outputId": "342f8846-c2d6-466f-f71f-8d057a3f34a2"
      },
      "execution_count": 68,
      "outputs": [
        {
          "output_type": "execute_result",
          "data": {
            "text/plain": [
              "{3, 6, 9, 10}"
            ]
          },
          "metadata": {},
          "execution_count": 68
        }
      ]
    },
    {
      "cell_type": "markdown",
      "source": [
        "# **symmetric_difference_update() ->inserts the symmetric differences from this set and another**"
      ],
      "metadata": {
        "id": "0RE6qt6KHsZe"
      }
    },
    {
      "cell_type": "code",
      "source": [
        "j1.symmetric_difference_update(p1)        #updates changes in j1"
      ],
      "metadata": {
        "id": "nk7sXy3QHpg-"
      },
      "execution_count": 69,
      "outputs": []
    },
    {
      "cell_type": "code",
      "source": [
        "j1"
      ],
      "metadata": {
        "colab": {
          "base_uri": "https://localhost:8080/"
        },
        "id": "e8fPgDT_H_RZ",
        "outputId": "aab1fc62-ae94-40cc-9e9c-990b34f7151c"
      },
      "execution_count": 70,
      "outputs": [
        {
          "output_type": "execute_result",
          "data": {
            "text/plain": [
              "{3, 6, 9, 10}"
            ]
          },
          "metadata": {},
          "execution_count": 70
        }
      ]
    },
    {
      "cell_type": "markdown",
      "source": [
        "# **union() ->\tReturn a set containing the union of sets**"
      ],
      "metadata": {
        "id": "JrB1kIdJIQnK"
      }
    },
    {
      "cell_type": "code",
      "source": [
        "j1"
      ],
      "metadata": {
        "colab": {
          "base_uri": "https://localhost:8080/"
        },
        "id": "xVcvt7caJOvP",
        "outputId": "53ec070b-68cb-4c82-8277-049a79d42e9b"
      },
      "execution_count": 72,
      "outputs": [
        {
          "output_type": "execute_result",
          "data": {
            "text/plain": [
              "{3, 6, 9, 10}"
            ]
          },
          "metadata": {},
          "execution_count": 72
        }
      ]
    },
    {
      "cell_type": "code",
      "source": [
        "p1"
      ],
      "metadata": {
        "colab": {
          "base_uri": "https://localhost:8080/"
        },
        "id": "CwsR-vCgJRyQ",
        "outputId": "81b7b0cb-f247-43cd-d93e-05643dcc50ac"
      },
      "execution_count": 73,
      "outputs": [
        {
          "output_type": "execute_result",
          "data": {
            "text/plain": [
              "{3, 4, 5, 7, 8, 9, 10}"
            ]
          },
          "metadata": {},
          "execution_count": 73
        }
      ]
    },
    {
      "cell_type": "code",
      "source": [
        "u = j1.union(p1)         #union is given in set u\n",
        "u"
      ],
      "metadata": {
        "colab": {
          "base_uri": "https://localhost:8080/"
        },
        "id": "CL2HG_tBIDSq",
        "outputId": "565a202e-6f5c-4620-a302-e039727801a8"
      },
      "execution_count": 71,
      "outputs": [
        {
          "output_type": "execute_result",
          "data": {
            "text/plain": [
              "{3, 4, 5, 6, 7, 8, 9, 10}"
            ]
          },
          "metadata": {},
          "execution_count": 71
        }
      ]
    },
    {
      "cell_type": "markdown",
      "source": [
        "# **update() ->\tUpdate the set with the union of this set and others**"
      ],
      "metadata": {
        "id": "kDsWaFqhI7G-"
      }
    },
    {
      "cell_type": "code",
      "source": [
        "j1.update(p1)           #union is updated in j1\n",
        "j1"
      ],
      "metadata": {
        "colab": {
          "base_uri": "https://localhost:8080/"
        },
        "id": "VnF-SDmYI5FS",
        "outputId": "aa6b3ba5-00ab-4c01-87f0-28ef2ac4f4cc"
      },
      "execution_count": 74,
      "outputs": [
        {
          "output_type": "execute_result",
          "data": {
            "text/plain": [
              "{3, 4, 5, 6, 7, 8, 9, 10}"
            ]
          },
          "metadata": {},
          "execution_count": 74
        }
      ]
    },
    {
      "cell_type": "markdown",
      "source": [
        "# **TUPLE**"
      ],
      "metadata": {
        "id": "LJlB4EIWTOAM"
      }
    },
    {
      "cell_type": "markdown",
      "source": [
        "\n",
        "# *Create a tuple named mytpl*"
      ],
      "metadata": {
        "id": "4MDLLOJkJlve"
      }
    },
    {
      "cell_type": "code",
      "source": [
        "mytpl = (\"nandy\", \"savy\", \"kevy\")\n",
        "mytpl"
      ],
      "metadata": {
        "colab": {
          "base_uri": "https://localhost:8080/"
        },
        "id": "nKlbx8jiJY01",
        "outputId": "5d33719a-6c3d-4c9d-a6fa-f6a7872e2eeb"
      },
      "execution_count": 75,
      "outputs": [
        {
          "output_type": "execute_result",
          "data": {
            "text/plain": [
              "('nandy', 'savy', 'kevy')"
            ]
          },
          "metadata": {},
          "execution_count": 75
        }
      ]
    },
    {
      "cell_type": "markdown",
      "source": [
        "# **count() ->Returns the number of times a specified value occurs in a tuple**"
      ],
      "metadata": {
        "id": "jHYNkslfKWRw"
      }
    },
    {
      "cell_type": "code",
      "source": [
        "mytpl.count(\"savy\")"
      ],
      "metadata": {
        "colab": {
          "base_uri": "https://localhost:8080/"
        },
        "id": "AzlBb7lqKP_Y",
        "outputId": "f11976c8-6853-48f9-9507-13c254d1b8ac"
      },
      "execution_count": 76,
      "outputs": [
        {
          "output_type": "execute_result",
          "data": {
            "text/plain": [
              "1"
            ]
          },
          "metadata": {},
          "execution_count": 76
        }
      ]
    },
    {
      "cell_type": "markdown",
      "source": [
        "# **index() ->Searches the tuple for a specified value and returns the position of where it was found**"
      ],
      "metadata": {
        "id": "AYM8JaSgKroO"
      }
    },
    {
      "cell_type": "code",
      "source": [
        "mytpl.index(\"kevy\")"
      ],
      "metadata": {
        "colab": {
          "base_uri": "https://localhost:8080/"
        },
        "id": "L5FjwaIHKpqM",
        "outputId": "5b55f205-0077-475f-9ad8-ad540dec743d"
      },
      "execution_count": 77,
      "outputs": [
        {
          "output_type": "execute_result",
          "data": {
            "text/plain": [
              "2"
            ]
          },
          "metadata": {},
          "execution_count": 77
        }
      ]
    },
    {
      "cell_type": "markdown",
      "source": [
        "# **DICTIONARY**"
      ],
      "metadata": {
        "id": "j0uvmD7DTRNS"
      }
    },
    {
      "cell_type": "markdown",
      "source": [
        "\n",
        "# *Create a dictionary named mydict*"
      ],
      "metadata": {
        "id": "Ga9rPP0ELGaQ"
      }
    },
    {
      "cell_type": "code",
      "source": [
        "mydict = {\n",
        "  \"name\": \"nandy\",\n",
        "  \"frd\": \"pravy\",\n",
        "  \"clg\": \"mcc\",\n",
        "  \"year\":2018,\n",
        "  \"fight\":\"always\",\n",
        "  \"place\":\"germany\",\n",
        "  \"gifts\": 2\n",
        "}\n",
        "mydict"
      ],
      "metadata": {
        "colab": {
          "base_uri": "https://localhost:8080/"
        },
        "id": "DF2HTJ35K-RO",
        "outputId": "85c8d501-03bc-452f-e25b-ac86ac6b17ea"
      },
      "execution_count": 78,
      "outputs": [
        {
          "output_type": "execute_result",
          "data": {
            "text/plain": [
              "{'name': 'nandy',\n",
              " 'frd': 'pravy',\n",
              " 'clg': 'mcc',\n",
              " 'year': 2018,\n",
              " 'fight': 'always',\n",
              " 'place': 'germany',\n",
              " 'gifts': 2}"
            ]
          },
          "metadata": {},
          "execution_count": 78
        }
      ]
    },
    {
      "cell_type": "markdown",
      "source": [
        "# **clear() ->Removes all the elements from the dictionary**"
      ],
      "metadata": {
        "id": "acc_dvPmMXTj"
      }
    },
    {
      "cell_type": "code",
      "source": [
        "mydict.clear()\n",
        "mydict"
      ],
      "metadata": {
        "colab": {
          "base_uri": "https://localhost:8080/"
        },
        "id": "O5W4mjsFMP6f",
        "outputId": "e67a7c24-c119-4ce7-fe5d-a1e7cbcfadcf"
      },
      "execution_count": 79,
      "outputs": [
        {
          "output_type": "execute_result",
          "data": {
            "text/plain": [
              "{}"
            ]
          },
          "metadata": {},
          "execution_count": 79
        }
      ]
    },
    {
      "cell_type": "markdown",
      "source": [
        "# *recreate mydict*"
      ],
      "metadata": {
        "id": "6ssdcsxoMoMD"
      }
    },
    {
      "cell_type": "code",
      "source": [
        "mydict = {\n",
        "  \"name\": \"nandy\",\n",
        "  \"frd\": \"pravy\",\n",
        "  \"clg\": \"mcc\",\n",
        "  \"year\":2018,\n",
        "  \"fight\":\"always\",\n",
        "  \"place\":\"germany\",\n",
        "  \"gifts\": 2\n",
        "}\n",
        "mydict"
      ],
      "metadata": {
        "colab": {
          "base_uri": "https://localhost:8080/"
        },
        "id": "AlXXHL8iMkBz",
        "outputId": "e1a22185-0d1f-4033-c44a-eab413f84a3b"
      },
      "execution_count": 80,
      "outputs": [
        {
          "output_type": "execute_result",
          "data": {
            "text/plain": [
              "{'name': 'nandy',\n",
              " 'frd': 'pravy',\n",
              " 'clg': 'mcc',\n",
              " 'year': 2018,\n",
              " 'fight': 'always',\n",
              " 'place': 'germany',\n",
              " 'gifts': 2}"
            ]
          },
          "metadata": {},
          "execution_count": 80
        }
      ]
    },
    {
      "cell_type": "markdown",
      "source": [
        "# **copy() ->Returns a copy of the dictionary**"
      ],
      "metadata": {
        "id": "uoLoYaS5M6bv"
      }
    },
    {
      "cell_type": "code",
      "source": [
        "copydict = mydict.copy()\n",
        "copydict"
      ],
      "metadata": {
        "colab": {
          "base_uri": "https://localhost:8080/"
        },
        "id": "vjKPg4MjM21P",
        "outputId": "fe61d94c-02d4-4ac8-d81c-83ae133af55a"
      },
      "execution_count": 81,
      "outputs": [
        {
          "output_type": "execute_result",
          "data": {
            "text/plain": [
              "{'name': 'nandy',\n",
              " 'frd': 'pravy',\n",
              " 'clg': 'mcc',\n",
              " 'year': 2018,\n",
              " 'fight': 'always',\n",
              " 'place': 'germany',\n",
              " 'gifts': 2}"
            ]
          },
          "metadata": {},
          "execution_count": 81
        }
      ]
    },
    {
      "cell_type": "markdown",
      "source": [
        "# **fromkeys() ->Returns a dictionary with the specified keys and value**"
      ],
      "metadata": {
        "id": "WfvT97vnNO7f"
      }
    },
    {
      "cell_type": "code",
      "source": [
        "k = ('me', 'frd', 'enemy')\n",
        "dict1 = dict.fromkeys(k)\n",
        "dict1\n"
      ],
      "metadata": {
        "colab": {
          "base_uri": "https://localhost:8080/"
        },
        "id": "_JX5YuddNT_B",
        "outputId": "7e05588c-db80-4d5c-daa6-b525f5411096"
      },
      "execution_count": 83,
      "outputs": [
        {
          "output_type": "execute_result",
          "data": {
            "text/plain": [
              "{'me': None, 'frd': None, 'enemy': None}"
            ]
          },
          "metadata": {},
          "execution_count": 83
        }
      ]
    },
    {
      "cell_type": "markdown",
      "source": [
        "# **get() ->Returns the value of the specified key**"
      ],
      "metadata": {
        "id": "Xbd5u-FnOasz"
      }
    },
    {
      "cell_type": "code",
      "source": [
        "mydict.get(\"frd\")"
      ],
      "metadata": {
        "colab": {
          "base_uri": "https://localhost:8080/",
          "height": 36
        },
        "id": "pU9z1w6dN0gf",
        "outputId": "060c4d4f-f707-4532-dc56-b22883b1b98a"
      },
      "execution_count": 84,
      "outputs": [
        {
          "output_type": "execute_result",
          "data": {
            "text/plain": [
              "'pravy'"
            ],
            "application/vnd.google.colaboratory.intrinsic+json": {
              "type": "string"
            }
          },
          "metadata": {},
          "execution_count": 84
        }
      ]
    },
    {
      "cell_type": "markdown",
      "source": [
        "# **items()\t->Returns a list containing a tuple for each key value pair**"
      ],
      "metadata": {
        "id": "WDykHmsFO3jF"
      }
    },
    {
      "cell_type": "code",
      "source": [
        "mydict.items()"
      ],
      "metadata": {
        "colab": {
          "base_uri": "https://localhost:8080/"
        },
        "id": "HhXMrnohO12o",
        "outputId": "7c091e84-2165-408a-c26c-9a3146a2ffef"
      },
      "execution_count": 85,
      "outputs": [
        {
          "output_type": "execute_result",
          "data": {
            "text/plain": [
              "dict_items([('name', 'nandy'), ('frd', 'pravy'), ('clg', 'mcc'), ('year', 2018), ('fight', 'always'), ('place', 'germany'), ('gifts', 2)])"
            ]
          },
          "metadata": {},
          "execution_count": 85
        }
      ]
    },
    {
      "cell_type": "markdown",
      "source": [
        "# **keys()\t->Returns a list containing the dictionary's keys**"
      ],
      "metadata": {
        "id": "URkG2iOTPPaQ"
      }
    },
    {
      "cell_type": "code",
      "source": [
        "mydict.keys()"
      ],
      "metadata": {
        "colab": {
          "base_uri": "https://localhost:8080/"
        },
        "id": "CUaG-H3APV04",
        "outputId": "8b7ed753-8a3a-4031-ad7a-1f97ade9eebf"
      },
      "execution_count": 86,
      "outputs": [
        {
          "output_type": "execute_result",
          "data": {
            "text/plain": [
              "dict_keys(['name', 'frd', 'clg', 'year', 'fight', 'place', 'gifts'])"
            ]
          },
          "metadata": {},
          "execution_count": 86
        }
      ]
    },
    {
      "cell_type": "markdown",
      "source": [
        "# **pop()\t->Removes the element with the specified key**"
      ],
      "metadata": {
        "id": "Zu5435MCPjJH"
      }
    },
    {
      "cell_type": "code",
      "source": [
        "mydict.pop(\"place\")\n",
        "mydict"
      ],
      "metadata": {
        "colab": {
          "base_uri": "https://localhost:8080/"
        },
        "id": "teVDjaWCPdxF",
        "outputId": "cd09a5d6-aeb7-41df-bba2-71a2483f0ef2"
      },
      "execution_count": 87,
      "outputs": [
        {
          "output_type": "execute_result",
          "data": {
            "text/plain": [
              "{'name': 'nandy',\n",
              " 'frd': 'pravy',\n",
              " 'clg': 'mcc',\n",
              " 'year': 2018,\n",
              " 'fight': 'always',\n",
              " 'gifts': 2}"
            ]
          },
          "metadata": {},
          "execution_count": 87
        }
      ]
    },
    {
      "cell_type": "markdown",
      "source": [
        "# **popitem()\t->Removes the last inserted key-value pair**"
      ],
      "metadata": {
        "id": "Wnwg3kBHP0wH"
      }
    },
    {
      "cell_type": "code",
      "source": [
        "mydict.popitem()\n",
        "mydict"
      ],
      "metadata": {
        "colab": {
          "base_uri": "https://localhost:8080/"
        },
        "id": "kSa4C57LP9tX",
        "outputId": "4fb59b48-bcef-4a22-f8e2-3b290c84db87"
      },
      "execution_count": 88,
      "outputs": [
        {
          "output_type": "execute_result",
          "data": {
            "text/plain": [
              "{'name': 'nandy',\n",
              " 'frd': 'pravy',\n",
              " 'clg': 'mcc',\n",
              " 'year': 2018,\n",
              " 'fight': 'always'}"
            ]
          },
          "metadata": {},
          "execution_count": 88
        }
      ]
    },
    {
      "cell_type": "markdown",
      "source": [
        "# **setdefault()\t->Returns the value of the specified key. If the key does not exist: insert the key, with the specified value**"
      ],
      "metadata": {
        "id": "Hm64F8NbQQF-"
      }
    },
    {
      "cell_type": "code",
      "source": [
        "mydict.setdefault(\"movies\", 2)     #this key and value has been added to mydict and is shown\n",
        "mydict"
      ],
      "metadata": {
        "colab": {
          "base_uri": "https://localhost:8080/"
        },
        "id": "mRu0Cj1_QNE-",
        "outputId": "7447a15d-b319-4878-8a67-b4116a7303d5"
      },
      "execution_count": 90,
      "outputs": [
        {
          "output_type": "execute_result",
          "data": {
            "text/plain": [
              "{'name': 'nandy',\n",
              " 'frd': 'pravy',\n",
              " 'clg': 'mcc',\n",
              " 'year': 2018,\n",
              " 'fight': 'always',\n",
              " 'movies': 2}"
            ]
          },
          "metadata": {},
          "execution_count": 90
        }
      ]
    },
    {
      "cell_type": "code",
      "source": [
        "mydict.setdefault(\"movies\")       #this shows the value of the given key in mydict\n"
      ],
      "metadata": {
        "colab": {
          "base_uri": "https://localhost:8080/"
        },
        "id": "pCByrEpmQ6xN",
        "outputId": "4c57343b-8ad9-45c5-e929-3e03d36f672c"
      },
      "execution_count": 92,
      "outputs": [
        {
          "output_type": "execute_result",
          "data": {
            "text/plain": [
              "2"
            ]
          },
          "metadata": {},
          "execution_count": 92
        }
      ]
    },
    {
      "cell_type": "markdown",
      "source": [
        "# **update()\t->Updates the dictionary with the specified key-value pairs**"
      ],
      "metadata": {
        "id": "OmxEmk7HRodx"
      }
    },
    {
      "cell_type": "code",
      "source": [
        "mydict.update({\"chat\": \"stupid\"})"
      ],
      "metadata": {
        "id": "yy8rp2RYRKnQ"
      },
      "execution_count": 93,
      "outputs": []
    },
    {
      "cell_type": "code",
      "source": [
        "mydict"
      ],
      "metadata": {
        "colab": {
          "base_uri": "https://localhost:8080/"
        },
        "id": "LIa6cXDUSA7G",
        "outputId": "2f166c42-0b9d-43ba-dbbe-74d59cec372a"
      },
      "execution_count": 94,
      "outputs": [
        {
          "output_type": "execute_result",
          "data": {
            "text/plain": [
              "{'name': 'nandy',\n",
              " 'frd': 'pravy',\n",
              " 'clg': 'mcc',\n",
              " 'year': 2018,\n",
              " 'fight': 'always',\n",
              " 'movies': 2,\n",
              " 'chat': 'stupid'}"
            ]
          },
          "metadata": {},
          "execution_count": 94
        }
      ]
    },
    {
      "cell_type": "markdown",
      "source": [
        "# **values()\t->Returns a list of all the values in the dictionary**"
      ],
      "metadata": {
        "id": "k03UkUpkSGq-"
      }
    },
    {
      "cell_type": "code",
      "source": [
        "mydict.values()"
      ],
      "metadata": {
        "colab": {
          "base_uri": "https://localhost:8080/"
        },
        "id": "vCko5jrJSCDa",
        "outputId": "a55676dc-9f89-42bc-a4de-1f1f8f981f11"
      },
      "execution_count": 95,
      "outputs": [
        {
          "output_type": "execute_result",
          "data": {
            "text/plain": [
              "dict_values(['nandy', 'pravy', 'mcc', 2018, 'always', 2, 'stupid'])"
            ]
          },
          "metadata": {},
          "execution_count": 95
        }
      ]
    }
  ]
}