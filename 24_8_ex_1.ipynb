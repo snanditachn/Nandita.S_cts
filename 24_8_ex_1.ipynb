{
  "nbformat": 4,
  "nbformat_minor": 0,
  "metadata": {
    "colab": {
      "name": "24_8_ex_1.ipynb",
      "provenance": [],
      "authorship_tag": "ABX9TyMzdOAm6hJO2nBN1T9QhZ72",
      "include_colab_link": true
    },
    "kernelspec": {
      "name": "python3",
      "display_name": "Python 3"
    },
    "language_info": {
      "name": "python"
    }
  },
  "cells": [
    {
      "cell_type": "markdown",
      "metadata": {
        "id": "view-in-github",
        "colab_type": "text"
      },
      "source": [
        "<a href=\"https://colab.research.google.com/github/snanditachn/Nandita.S_cts/blob/main/24_8_ex_1.ipynb\" target=\"_parent\"><img src=\"https://colab.research.google.com/assets/colab-badge.svg\" alt=\"Open In Colab\"/></a>"
      ]
    },
    {
      "cell_type": "markdown",
      "source": [
        "# Exercise 1:"
      ],
      "metadata": {
        "id": "IBJmlowDav5B"
      }
    },
    {
      "cell_type": "markdown",
      "source": [
        "Generate a 1D numpy array with the values [7, 9, 65, 33, 85, 99]"
      ],
      "metadata": {
        "id": "3GX1fNYOa63a"
      }
    },
    {
      "cell_type": "code",
      "source": [
        "import numpy as np"
      ],
      "metadata": {
        "id": "tAfXfJUbajg7"
      },
      "execution_count": 10,
      "outputs": []
    },
    {
      "cell_type": "code",
      "source": [
        "list1 = [7, 9, 65, 33, 85, 99]"
      ],
      "metadata": {
        "id": "54F26Dt1bBzU"
      },
      "execution_count": 11,
      "outputs": []
    },
    {
      "cell_type": "code",
      "source": [
        "arr1 = np.array(list1)"
      ],
      "metadata": {
        "id": "3fnf2sJebRro"
      },
      "execution_count": 12,
      "outputs": []
    },
    {
      "cell_type": "code",
      "source": [
        "print (arr1)"
      ],
      "metadata": {
        "colab": {
          "base_uri": "https://localhost:8080/"
        },
        "id": "1Ik372iHbZK0",
        "outputId": "08704c94-878e-46fa-e8c4-b203ae8add88"
      },
      "execution_count": 13,
      "outputs": [
        {
          "output_type": "stream",
          "name": "stdout",
          "text": [
            "[ 7  9 65 33 85 99]\n"
          ]
        }
      ]
    },
    {
      "cell_type": "markdown",
      "source": [
        "Generate a matrix (2D numpy array) of the values:\n",
        "120\n",
        "235\n",
        "401"
      ],
      "metadata": {
        "id": "m6o-XOoebfjO"
      }
    },
    {
      "cell_type": "code",
      "source": [
        "list2 = [1,2,0,2,3,5,4,0,1]"
      ],
      "metadata": {
        "id": "JGJaTHV0bd9Y"
      },
      "execution_count": 14,
      "outputs": []
    },
    {
      "cell_type": "code",
      "source": [
        "arr2 = np.array(list2)"
      ],
      "metadata": {
        "id": "e-rGRDPub-_y"
      },
      "execution_count": 15,
      "outputs": []
    },
    {
      "cell_type": "code",
      "source": [
        "arr2= arr2.reshape(3, 3)"
      ],
      "metadata": {
        "id": "1n0JF2OLcD2W"
      },
      "execution_count": 16,
      "outputs": []
    },
    {
      "cell_type": "code",
      "source": [
        "print(arr2)"
      ],
      "metadata": {
        "colab": {
          "base_uri": "https://localhost:8080/"
        },
        "id": "ROKIZE22cUqp",
        "outputId": "7da03466-93bd-4b4e-efbc-ec56279c5042"
      },
      "execution_count": 17,
      "outputs": [
        {
          "output_type": "stream",
          "name": "stdout",
          "text": [
            "[[1 2 0]\n",
            " [2 3 5]\n",
            " [4 0 1]]\n"
          ]
        }
      ]
    },
    {
      "cell_type": "markdown",
      "source": [
        "Change the dimensions of this array to another permitted shape"
      ],
      "metadata": {
        "id": "ckpu6yIRcZEQ"
      }
    },
    {
      "cell_type": "code",
      "source": [
        "arr2= arr2.reshape(9,1)\n",
        "print (arr2)"
      ],
      "metadata": {
        "colab": {
          "base_uri": "https://localhost:8080/"
        },
        "id": "FGkEWuahcWuh",
        "outputId": "e31d541d-df42-4f1d-c2b6-f93071347313"
      },
      "execution_count": 18,
      "outputs": [
        {
          "output_type": "stream",
          "name": "stdout",
          "text": [
            "[[1]\n",
            " [2]\n",
            " [0]\n",
            " [2]\n",
            " [3]\n",
            " [5]\n",
            " [4]\n",
            " [0]\n",
            " [1]]\n"
          ]
        }
      ]
    },
    {
      "cell_type": "markdown",
      "source": [
        "# Exercise 2:"
      ],
      "metadata": {
        "id": "YIO8TOQhdHHl"
      }
    },
    {
      "cell_type": "markdown",
      "source": [
        "Create an array of string numbers, but use dtype to make it an array of floats."
      ],
      "metadata": {
        "id": "FQWzelxadFys"
      }
    },
    {
      "cell_type": "code",
      "source": [
        "arr1_with_strings = np.array(['1', '4', '16', '22', '44', '66'])\n",
        "arr1_with_strings"
      ],
      "metadata": {
        "colab": {
          "base_uri": "https://localhost:8080/"
        },
        "id": "1Am3Tt8wcmDZ",
        "outputId": "13930059-db7d-44f9-d81e-0e6038be2b93"
      },
      "execution_count": 28,
      "outputs": [
        {
          "output_type": "execute_result",
          "data": {
            "text/plain": [
              "array(['1', '4', '16', '22', '44', '66'], dtype='<U2')"
            ]
          },
          "metadata": {},
          "execution_count": 28
        }
      ]
    },
    {
      "cell_type": "code",
      "source": [
        "print(arr1_with_strings.astype(float))"
      ],
      "metadata": {
        "colab": {
          "base_uri": "https://localhost:8080/"
        },
        "id": "do674W-teZqb",
        "outputId": "e39dc0fb-5ab6-44ad-e165-91b44018f44f"
      },
      "execution_count": 29,
      "outputs": [
        {
          "output_type": "stream",
          "name": "stdout",
          "text": [
            "[ 1.  4. 16. 22. 44. 66.]\n"
          ]
        }
      ]
    },
    {
      "cell_type": "markdown",
      "source": [
        "Transpose the matrix, printing the new size and shape."
      ],
      "metadata": {
        "id": "MuKYdKXFe_z3"
      }
    },
    {
      "cell_type": "code",
      "source": [
        "arr2.shape = (1,9)\n",
        "print(arr2, \"\\n\")\n",
        "print(arr2.T)"
      ],
      "metadata": {
        "colab": {
          "base_uri": "https://localhost:8080/"
        },
        "id": "udovOGVLe5R6",
        "outputId": "ccda6e02-b7e9-4d1a-cdfa-e35688900bb2"
      },
      "execution_count": 30,
      "outputs": [
        {
          "output_type": "stream",
          "name": "stdout",
          "text": [
            "[[1 2 0 2 3 5 4 0 1]] \n",
            "\n",
            "[[1]\n",
            " [2]\n",
            " [0]\n",
            " [2]\n",
            " [3]\n",
            " [5]\n",
            " [4]\n",
            " [0]\n",
            " [1]]\n"
          ]
        }
      ]
    },
    {
      "cell_type": "markdown",
      "source": [
        "Use the .astype() method to convert the array to boolean"
      ],
      "metadata": {
        "id": "zLFPj5wtfbbi"
      }
    },
    {
      "cell_type": "code",
      "source": [
        "print(arr1_with_strings.astype(bool))"
      ],
      "metadata": {
        "colab": {
          "base_uri": "https://localhost:8080/"
        },
        "id": "HFV0z-SIfYkn",
        "outputId": "762811d4-e383-4f70-a859-531de29fd751"
      },
      "execution_count": 31,
      "outputs": [
        {
          "output_type": "stream",
          "name": "stdout",
          "text": [
            "[ True  True  True  True  True  True]\n"
          ]
        }
      ]
    },
    {
      "cell_type": "markdown",
      "source": [
        "# Exercise 3:"
      ],
      "metadata": {
        "id": "PSrHfT6KfrqF"
      }
    },
    {
      "cell_type": "markdown",
      "source": [
        "Create a numpy array with 50 zeros"
      ],
      "metadata": {
        "id": "1x2AgMxsfvlD"
      }
    },
    {
      "cell_type": "code",
      "source": [
        "arr0= np.zeros(50)\n",
        "arr0"
      ],
      "metadata": {
        "colab": {
          "base_uri": "https://localhost:8080/"
        },
        "id": "MNwAx5D3f9LX",
        "outputId": "a2622bac-9d50-4f0b-992d-7a33dcee9e10"
      },
      "execution_count": 34,
      "outputs": [
        {
          "output_type": "execute_result",
          "data": {
            "text/plain": [
              "array([0., 0., 0., 0., 0., 0., 0., 0., 0., 0., 0., 0., 0., 0., 0., 0., 0.,\n",
              "       0., 0., 0., 0., 0., 0., 0., 0., 0., 0., 0., 0., 0., 0., 0., 0., 0.,\n",
              "       0., 0., 0., 0., 0., 0., 0., 0., 0., 0., 0., 0., 0., 0., 0., 0.])"
            ]
          },
          "metadata": {},
          "execution_count": 34
        }
      ]
    },
    {
      "cell_type": "markdown",
      "source": [
        "Create a np array of 2 repeated 20 times"
      ],
      "metadata": {
        "id": "HX0gbZhFiUk8"
      }
    },
    {
      "cell_type": "code",
      "source": [
        "arrof2 =np.full(20,2)"
      ],
      "metadata": {
        "id": "0WZSaAD4iMeN"
      },
      "execution_count": 37,
      "outputs": []
    },
    {
      "cell_type": "code",
      "source": [
        "arrof2"
      ],
      "metadata": {
        "colab": {
          "base_uri": "https://localhost:8080/"
        },
        "id": "eVBcx_-0i_i3",
        "outputId": "b69f633e-c17a-4df8-c388-09a61d0f7884"
      },
      "execution_count": 38,
      "outputs": [
        {
          "output_type": "execute_result",
          "data": {
            "text/plain": [
              "array([2, 2, 2, 2, 2, 2, 2, 2, 2, 2, 2, 2, 2, 2, 2, 2, 2, 2, 2, 2])"
            ]
          },
          "metadata": {},
          "execution_count": 38
        }
      ]
    },
    {
      "cell_type": "markdown",
      "source": [
        "Create a numpy array from 0 to 2 pi in steps of 0.1"
      ],
      "metadata": {
        "id": "q89RuV4mjIjL"
      }
    },
    {
      "cell_type": "code",
      "source": [
        " arrofpi= np.arange(start=0, stop=6.283, step=0.1)  # pi value is 6.283\n",
        " arrofpi"
      ],
      "metadata": {
        "colab": {
          "base_uri": "https://localhost:8080/"
        },
        "id": "imV0z_oBjBI_",
        "outputId": "967f4e68-a7ce-403c-d050-5fcd6aa2d99e"
      },
      "execution_count": 40,
      "outputs": [
        {
          "output_type": "execute_result",
          "data": {
            "text/plain": [
              "array([0. , 0.1, 0.2, 0.3, 0.4, 0.5, 0.6, 0.7, 0.8, 0.9, 1. , 1.1, 1.2,\n",
              "       1.3, 1.4, 1.5, 1.6, 1.7, 1.8, 1.9, 2. , 2.1, 2.2, 2.3, 2.4, 2.5,\n",
              "       2.6, 2.7, 2.8, 2.9, 3. , 3.1, 3.2, 3.3, 3.4, 3.5, 3.6, 3.7, 3.8,\n",
              "       3.9, 4. , 4.1, 4.2, 4.3, 4.4, 4.5, 4.6, 4.7, 4.8, 4.9, 5. , 5.1,\n",
              "       5.2, 5.3, 5.4, 5.5, 5.6, 5.7, 5.8, 5.9, 6. , 6.1, 6.2])"
            ]
          },
          "metadata": {},
          "execution_count": 40
        }
      ]
    },
    {
      "cell_type": "markdown",
      "source": [
        "Get the first five values"
      ],
      "metadata": {
        "id": "KEVfI2sekMzM"
      }
    },
    {
      "cell_type": "code",
      "source": [
        "arrofpi[:5]"
      ],
      "metadata": {
        "colab": {
          "base_uri": "https://localhost:8080/"
        },
        "id": "I3GdkQDgj6up",
        "outputId": "22f9acde-ad80-4f69-b79b-77fd360186a2"
      },
      "execution_count": 44,
      "outputs": [
        {
          "output_type": "execute_result",
          "data": {
            "text/plain": [
              "array([0. , 0.1, 0.2, 0.3, 0.4])"
            ]
          },
          "metadata": {},
          "execution_count": 44
        }
      ]
    },
    {
      "cell_type": "markdown",
      "source": [
        "Get the last 3 values"
      ],
      "metadata": {
        "id": "lsVDVK7lkrLq"
      }
    },
    {
      "cell_type": "code",
      "source": [
        "arrofpi[-3:]"
      ],
      "metadata": {
        "colab": {
          "base_uri": "https://localhost:8080/"
        },
        "id": "Nna75Rt1kU5-",
        "outputId": "e67bfc91-0c58-4508-941f-741089fb7787"
      },
      "execution_count": 45,
      "outputs": [
        {
          "output_type": "execute_result",
          "data": {
            "text/plain": [
              "array([6. , 6.1, 6.2])"
            ]
          },
          "metadata": {},
          "execution_count": 45
        }
      ]
    },
    {
      "cell_type": "markdown",
      "source": [
        "Get the 4th value to the 7th value"
      ],
      "metadata": {
        "id": "_BPGUIGBk6au"
      }
    },
    {
      "cell_type": "code",
      "source": [
        "arrofpi [4:8]"
      ],
      "metadata": {
        "colab": {
          "base_uri": "https://localhost:8080/"
        },
        "id": "Cd4GdVynk06-",
        "outputId": "2a193aa8-81db-4741-8e6d-afce5a365ce3"
      },
      "execution_count": 47,
      "outputs": [
        {
          "output_type": "execute_result",
          "data": {
            "text/plain": [
              "array([0.4, 0.5, 0.6, 0.7])"
            ]
          },
          "metadata": {},
          "execution_count": 47
        }
      ]
    },
    {
      "cell_type": "markdown",
      "source": [
        " Reverse it"
      ],
      "metadata": {
        "id": "-FPqGB3klMmb"
      }
    },
    {
      "cell_type": "code",
      "source": [
        "revarrofpi =np.flip(arrofpi)"
      ],
      "metadata": {
        "id": "tfMRGZAKlAqe"
      },
      "execution_count": 48,
      "outputs": []
    },
    {
      "cell_type": "code",
      "source": [
        "revarrofpi"
      ],
      "metadata": {
        "colab": {
          "base_uri": "https://localhost:8080/"
        },
        "id": "s7aZU1XylWz_",
        "outputId": "ee597317-07f0-4d5e-ad93-efe5afb448bd"
      },
      "execution_count": 49,
      "outputs": [
        {
          "output_type": "execute_result",
          "data": {
            "text/plain": [
              "array([6.2, 6.1, 6. , 5.9, 5.8, 5.7, 5.6, 5.5, 5.4, 5.3, 5.2, 5.1, 5. ,\n",
              "       4.9, 4.8, 4.7, 4.6, 4.5, 4.4, 4.3, 4.2, 4.1, 4. , 3.9, 3.8, 3.7,\n",
              "       3.6, 3.5, 3.4, 3.3, 3.2, 3.1, 3. , 2.9, 2.8, 2.7, 2.6, 2.5, 2.4,\n",
              "       2.3, 2.2, 2.1, 2. , 1.9, 1.8, 1.7, 1.6, 1.5, 1.4, 1.3, 1.2, 1.1,\n",
              "       1. , 0.9, 0.8, 0.7, 0.6, 0.5, 0.4, 0.3, 0.2, 0.1, 0. ])"
            ]
          },
          "metadata": {},
          "execution_count": 49
        }
      ]
    },
    {
      "cell_type": "markdown",
      "source": [
        " Only keep every 4th element"
      ],
      "metadata": {
        "id": "6_8Gb8pzlali"
      }
    },
    {
      "cell_type": "code",
      "source": [
        "revarrofpi4 = arrofpi[0::4]\n",
        "revarrofpi4"
      ],
      "metadata": {
        "colab": {
          "base_uri": "https://localhost:8080/"
        },
        "id": "nbmsCW7LlYt2",
        "outputId": "38552faa-e0f9-415a-e7ba-05e01d4487aa"
      },
      "execution_count": 51,
      "outputs": [
        {
          "output_type": "execute_result",
          "data": {
            "text/plain": [
              "array([0. , 0.4, 0.8, 1.2, 1.6, 2. , 2.4, 2.8, 3.2, 3.6, 4. , 4.4, 4.8,\n",
              "       5.2, 5.6, 6. ])"
            ]
          },
          "metadata": {},
          "execution_count": 51
        }
      ]
    },
    {
      "cell_type": "markdown",
      "source": [
        "Get every 2nd element, starting from the last and moving backwards."
      ],
      "metadata": {
        "id": "Qs9XoHmKl-Fp"
      }
    },
    {
      "cell_type": "code",
      "source": [
        "arrofpi [-1::-2]"
      ],
      "metadata": {
        "colab": {
          "base_uri": "https://localhost:8080/"
        },
        "id": "0cLTcL64ly96",
        "outputId": "71d6fb88-3820-4daf-c6aa-5a3b3b564d83"
      },
      "execution_count": 54,
      "outputs": [
        {
          "output_type": "execute_result",
          "data": {
            "text/plain": [
              "array([6.2, 6. , 5.8, 5.6, 5.4, 5.2, 5. , 4.8, 4.6, 4.4, 4.2, 4. , 3.8,\n",
              "       3.6, 3.4, 3.2, 3. , 2.8, 2.6, 2.4, 2.2, 2. , 1.8, 1.6, 1.4, 1.2,\n",
              "       1. , 0.8, 0.6, 0.4, 0.2, 0. ])"
            ]
          },
          "metadata": {},
          "execution_count": 54
        }
      ]
    },
    {
      "cell_type": "markdown",
      "source": [
        "# Exercise 4"
      ],
      "metadata": {
        "id": "hYCrRKIlmR1r"
      }
    },
    {
      "cell_type": "markdown",
      "source": [
        "Compute min, max, sum, mean, median, variance, and standard deviation of the above array, all to to 2 decimal places."
      ],
      "metadata": {
        "id": "PYZj1_UamsMl"
      }
    },
    {
      "cell_type": "code",
      "source": [
        "np.array([1.65432, 5.98765]).round(2)"
      ],
      "metadata": {
        "colab": {
          "base_uri": "https://localhost:8080/"
        },
        "id": "FkYhjPCXmJvg",
        "outputId": "1c1de8c5-a65a-4a1b-e0c4-9921d5eeba03"
      },
      "execution_count": 55,
      "outputs": [
        {
          "output_type": "execute_result",
          "data": {
            "text/plain": [
              "array([1.65, 5.99])"
            ]
          },
          "metadata": {},
          "execution_count": 55
        }
      ]
    },
    {
      "cell_type": "code",
      "source": [
        "nums = np.arange(0, 4, 0.2555)"
      ],
      "metadata": {
        "id": "6WGGBqWimhCj"
      },
      "execution_count": 56,
      "outputs": []
    },
    {
      "cell_type": "code",
      "source": [
        "print(\"min = \", np.min(nums).round(2))\n",
        "print(\"max = \", np.max(nums).round(2))\n",
        "print(\"sum = \", np.sum(nums).round(2))\n",
        "print(\"mean = \", np.mean(nums).round(2))\n",
        "print(\"median = \", np.median(nums).round(2))\n",
        "print(\"var = \", np.var(nums).round(2))\n",
        "print(\"std = \", np.std(nums).round(2))"
      ],
      "metadata": {
        "colab": {
          "base_uri": "https://localhost:8080/"
        },
        "id": "2HsF0Di9mj64",
        "outputId": "65a361d6-10b6-4680-c866-91bbba77602f"
      },
      "execution_count": 57,
      "outputs": [
        {
          "output_type": "stream",
          "name": "stdout",
          "text": [
            "min =  0.0\n",
            "max =  3.83\n",
            "sum =  30.66\n",
            "mean =  1.92\n",
            "median =  1.92\n",
            "var =  1.39\n",
            "std =  1.18\n"
          ]
        }
      ]
    },
    {
      "cell_type": "markdown",
      "source": [
        "# Exercise 5"
      ],
      "metadata": {
        "id": "mA4H8Dgvmysp"
      }
    },
    {
      "cell_type": "markdown",
      "source": [
        "Simulate a six-sided dice using numpy.random.choice(), generate a list of values you would obtain from 10 throws."
      ],
      "metadata": {
        "id": "s54eFVC3mxU2"
      }
    },
    {
      "cell_type": "code",
      "source": [
        "dice = np.random.choice([0,1,2,3,4,5,6], 10)\n",
        "dice"
      ],
      "metadata": {
        "colab": {
          "base_uri": "https://localhost:8080/"
        },
        "id": "TQMMV34PmnAm",
        "outputId": "d83a1338-5d45-44e6-ec2c-51608050be91"
      },
      "execution_count": 60,
      "outputs": [
        {
          "output_type": "execute_result",
          "data": {
            "text/plain": [
              "array([6, 6, 5, 5, 3, 3, 5, 5, 3, 2])"
            ]
          },
          "metadata": {},
          "execution_count": 60
        }
      ]
    },
    {
      "cell_type": "markdown",
      "source": [
        "Simulate a two-sided coin toss that is NOT fair: it is twice as likely to have head than tails"
      ],
      "metadata": {
        "id": "XKYJw9SynWaz"
      }
    },
    {
      "cell_type": "code",
      "source": [
        "notfair = np.random.choice([0,1,1], 10)\n",
        "notfair"
      ],
      "metadata": {
        "colab": {
          "base_uri": "https://localhost:8080/"
        },
        "id": "5GQMXqHDnE2c",
        "outputId": "3c46fcd5-89e1-4028-982c-c54a4dc0417d"
      },
      "execution_count": 64,
      "outputs": [
        {
          "output_type": "execute_result",
          "data": {
            "text/plain": [
              "array([1, 0, 1, 1, 1, 0, 1, 1, 0, 1])"
            ]
          },
          "metadata": {},
          "execution_count": 64
        }
      ]
    }
  ]
}