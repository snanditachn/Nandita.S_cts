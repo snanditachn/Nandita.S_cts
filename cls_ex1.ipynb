{
  "nbformat": 4,
  "nbformat_minor": 0,
  "metadata": {
    "colab": {
      "name": "cls_ex1.ipynb",
      "provenance": [],
      "authorship_tag": "ABX9TyMByW4xUHtdcHmHkRGfrKHF",
      "include_colab_link": true
    },
    "kernelspec": {
      "name": "python3",
      "display_name": "Python 3"
    },
    "language_info": {
      "name": "python"
    }
  },
  "cells": [
    {
      "cell_type": "markdown",
      "metadata": {
        "id": "view-in-github",
        "colab_type": "text"
      },
      "source": [
        "<a href=\"https://colab.research.google.com/github/snanditachn/Nandita.S_cts/blob/main/cls_ex1.ipynb\" target=\"_parent\"><img src=\"https://colab.research.google.com/assets/colab-badge.svg\" alt=\"Open In Colab\"/></a>"
      ]
    },
    {
      "cell_type": "code",
      "execution_count": 1,
      "metadata": {
        "colab": {
          "base_uri": "https://localhost:8080/"
        },
        "id": "x2AhIBS3gG5I",
        "outputId": "9442ff34-6dd1-44c6-8ae5-3e749c9904f0"
      },
      "outputs": [
        {
          "name": "stdout",
          "output_type": "stream",
          "text": [
            "Enter the first number:5\n",
            "Enter the second number:8\n"
          ]
        }
      ],
      "source": [
        "n1= int(input('Enter the first number:'))\n",
        "n2 = int(input('Enter the second number:'))"
      ]
    },
    {
      "cell_type": "code",
      "source": [
        "##writefile script.py\n",
        "if n1>n2:\n",
        "  print('The number',n1,'is greater than',n2) \n",
        "else:\n",
        "  print('The number',n2,'is greater than',n1)"
      ],
      "metadata": {
        "colab": {
          "base_uri": "https://localhost:8080/"
        },
        "id": "7Baa-hu8gITk",
        "outputId": "6d5e3441-cd27-4d0c-9642-13029bb8c922"
      },
      "execution_count": 5,
      "outputs": [
        {
          "output_type": "stream",
          "name": "stdout",
          "text": [
            "The number 8 is greater than 5\n"
          ]
        }
      ]
    },
    {
      "cell_type": "code",
      "source": [
        "##writefile -a script.py\n",
        "if n1<n2:\n",
        "  print('The number',n1,'is smaller than',n2) \n",
        "else:\n",
        "  print('The number',n2,'is smaller than',n1)"
      ],
      "metadata": {
        "colab": {
          "base_uri": "https://localhost:8080/"
        },
        "id": "HF80TOLPgU5W",
        "outputId": "7f22405d-a0db-4012-8ffe-83ed024cb959"
      },
      "execution_count": 6,
      "outputs": [
        {
          "output_type": "stream",
          "name": "stdout",
          "text": [
            "The number 5 is smaller than 8\n"
          ]
        }
      ]
    },
    {
      "cell_type": "code",
      "source": [
        ""
      ],
      "metadata": {
        "id": "TEr-VTKOghOd"
      },
      "execution_count": null,
      "outputs": []
    }
  ]
}