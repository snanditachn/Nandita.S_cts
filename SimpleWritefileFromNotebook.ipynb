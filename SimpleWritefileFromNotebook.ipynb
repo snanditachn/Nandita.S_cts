{
  "nbformat": 4,
  "nbformat_minor": 0,
  "metadata": {
    "colab": {
      "name": "Untitled1.ipynb",
      "provenance": [],
      "include_colab_link": true
    },
    "kernelspec": {
      "name": "python3",
      "display_name": "Python 3"
    },
    "language_info": {
      "name": "python"
    }
  },
  "cells": [
    {
      "cell_type": "markdown",
      "metadata": {
        "id": "view-in-github",
        "colab_type": "text"
      },
      "source": [
        "<a href=\"https://colab.research.google.com/github/snanditachn/Nandita.S_cts/blob/main/SimpleWritefileFromNotebook.ipynb\" target=\"_parent\"><img src=\"https://colab.research.google.com/assets/colab-badge.svg\" alt=\"Open In Colab\"/></a>"
      ]
    },
    {
      "cell_type": "code",
      "execution_count": null,
      "metadata": {
        "colab": {
          "base_uri": "https://localhost:8080/"
        },
        "id": "GsLdt7RMWX9k",
        "outputId": "b414a125-d852-4045-e4c4-5e03cd776e4d"
      },
      "outputs": [
        {
          "output_type": "stream",
          "name": "stdout",
          "text": [
            "3\n"
          ]
        }
      ],
      "source": [
        "print(3)\n",
        "# COLAB, Notebooks, IoT, Mobile, Web-> CLIENT SIDE\n",
        "# SERVER SIDE-> PYTHON SERVER \n"
      ]
    },
    {
      "cell_type": "code",
      "source": [
        "# BACKEND PYTHON-> Virtual Machine ->Azure/AWS -> VMs\n",
        "# COLAB/Notebooks-> FOR EXPERIMENT ONLY!"
      ],
      "metadata": {
        "id": "lD7vATYMWdtx"
      },
      "execution_count": null,
      "outputs": []
    },
    {
      "cell_type": "code",
      "source": [
        "%%writefile script.py\n",
        "a = 1\n",
        "b = 2\n",
        "c = a+b\n",
        "print(c)\n"
      ],
      "metadata": {
        "colab": {
          "base_uri": "https://localhost:8080/"
        },
        "id": "Y6fockeMW2JZ",
        "outputId": "5c9ec420-8740-444e-d519-d29e9659c3db"
      },
      "execution_count": null,
      "outputs": [
        {
          "output_type": "stream",
          "name": "stdout",
          "text": [
            "Writing script.py\n"
          ]
        }
      ]
    },
    {
      "cell_type": "markdown",
      "source": [
        "# NO EXECUTION-> only extracting the valid experiment from our notebook and writing into a file"
      ],
      "metadata": {
        "id": "S184nBtQXdne"
      }
    },
    {
      "cell_type": "code",
      "source": [
        "a = 1\n",
        "b = 2\n",
        "c = a/b\n",
        "print(c)"
      ],
      "metadata": {
        "colab": {
          "base_uri": "https://localhost:8080/"
        },
        "id": "4ck8sxJaXDm8",
        "outputId": "7d3c468d-1ce2-40fa-f8dc-583eada00376"
      },
      "execution_count": null,
      "outputs": [
        {
          "output_type": "stream",
          "name": "stdout",
          "text": [
            "0.5\n"
          ]
        }
      ]
    },
    {
      "cell_type": "code",
      "source": [
        "%%writefile script.py \n",
        "c = c+a\n",
        "print(c)"
      ],
      "metadata": {
        "colab": {
          "base_uri": "https://localhost:8080/"
        },
        "id": "OcnqsSwtXFHd",
        "outputId": "a36ec02b-0127-474a-becf-6b3dc0448036"
      },
      "execution_count": null,
      "outputs": [
        {
          "output_type": "stream",
          "name": "stdout",
          "text": [
            "Overwriting script.py\n"
          ]
        }
      ]
    },
    {
      "cell_type": "code",
      "source": [
        "# Two modes of writing-> WRITE and APPEND\n",
        "# Write-> from the top\n",
        "# Appending-> from the end\n"
      ],
      "metadata": {
        "id": "wa8FSPCbXm6B"
      },
      "execution_count": null,
      "outputs": []
    },
    {
      "cell_type": "code",
      "source": [
        "%%writefile script.py\n",
        "a = 1\n",
        "b = 2\n",
        "c = a+b\n",
        "print(c)"
      ],
      "metadata": {
        "colab": {
          "base_uri": "https://localhost:8080/"
        },
        "id": "dCjU1Y4xYAHl",
        "outputId": "1c205a5f-06c2-49a0-fb75-a7aea00e69e2"
      },
      "execution_count": null,
      "outputs": [
        {
          "output_type": "stream",
          "name": "stdout",
          "text": [
            "Overwriting script.py\n"
          ]
        }
      ]
    },
    {
      "cell_type": "code",
      "source": [
        "%%writefile -a script.py \n",
        "c = c+a\n",
        "print(c)"
      ],
      "metadata": {
        "colab": {
          "base_uri": "https://localhost:8080/"
        },
        "id": "IPQUca9xYDGR",
        "outputId": "873d3ce0-2955-43f7-c4d3-1ce9da279762"
      },
      "execution_count": null,
      "outputs": [
        {
          "output_type": "stream",
          "name": "stdout",
          "text": [
            "Appending to script.py\n"
          ]
        }
      ]
    },
    {
      "cell_type": "code",
      "source": [
        ""
      ],
      "metadata": {
        "id": "DqGZ4PYlYHQL"
      },
      "execution_count": null,
      "outputs": []
    }
  ]
}