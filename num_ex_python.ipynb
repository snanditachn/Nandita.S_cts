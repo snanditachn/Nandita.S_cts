{
  "nbformat": 4,
  "nbformat_minor": 0,
  "metadata": {
    "colab": {
      "name": "Untitled1.ipynb",
      "provenance": [],
      "authorship_tag": "ABX9TyPtbb3Je+qn4FQNE5QSkx1G",
      "include_colab_link": true
    },
    "kernelspec": {
      "name": "python3",
      "display_name": "Python 3"
    },
    "language_info": {
      "name": "python"
    }
  },
  "cells": [
    {
      "cell_type": "markdown",
      "metadata": {
        "id": "view-in-github",
        "colab_type": "text"
      },
      "source": [
        "<a href=\"https://colab.research.google.com/github/snanditachn/Nandita.S_cts/blob/main/num_ex_python.ipynb\" target=\"_parent\"><img src=\"https://colab.research.google.com/assets/colab-badge.svg\" alt=\"Open In Colab\"/></a>"
      ]
    },
    {
      "cell_type": "code",
      "execution_count": 1,
      "metadata": {
        "colab": {
          "base_uri": "https://localhost:8080/"
        },
        "id": "SSgLt3J-oV1G",
        "outputId": "a7b7b7fd-515c-4132-cf01-5033c7840f51"
      },
      "outputs": [
        {
          "output_type": "stream",
          "name": "stdout",
          "text": [
            "Writing script.py\n"
          ]
        }
      ],
      "source": [
        "%%writefile script.py\n",
        "input1=int(intput(\"Enter a num1\"))\n",
        "input2=int(input(\"Enter a num2\"))\n",
        "if num1>num2:\n",
        "  print (num1 is the largest)\n",
        "else:\n",
        "    print( num2 is the largest)"
      ]
    },
    {
      "cell_type": "code",
      "source": [
        "%%writefile sscript.py\n",
        "input1=int(intput(\"Enter a num1\"))\n",
        "input2=int(input(\"Enter a num2\"))\n",
        "if num1<num2:\n",
        "  print (num1 is the smallest)\n",
        "else:\n",
        "    print( num2 is the smallest)"
      ],
      "metadata": {
        "colab": {
          "base_uri": "https://localhost:8080/"
        },
        "id": "qApduH9toXut",
        "outputId": "08ab4bae-da76-41df-d792-2e79f2dfb0d8"
      },
      "execution_count": 2,
      "outputs": [
        {
          "output_type": "stream",
          "name": "stdout",
          "text": [
            "Writing sscript.py\n"
          ]
        }
      ]
    },
    {
      "cell_type": "code",
      "source": [
        ""
      ],
      "metadata": {
        "id": "75VbM5zKooFl"
      },
      "execution_count": null,
      "outputs": []
    }
  ]
}