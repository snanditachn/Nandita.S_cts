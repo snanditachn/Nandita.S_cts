{
  "nbformat": 4,
  "nbformat_minor": 0,
  "metadata": {
    "colab": {
      "name": "num_ex1.ipynb",
      "provenance": [],
      "authorship_tag": "ABX9TyM0MRNjfcQD3IxxiFoul/Lq",
      "include_colab_link": true
    },
    "kernelspec": {
      "name": "python3",
      "display_name": "Python 3"
    },
    "language_info": {
      "name": "python"
    }
  },
  "cells": [
    {
      "cell_type": "markdown",
      "metadata": {
        "id": "view-in-github",
        "colab_type": "text"
      },
      "source": [
        "<a href=\"https://colab.research.google.com/github/snanditachn/Nandita.S_cts/blob/main/num_ex1.ipynb\" target=\"_parent\"><img src=\"https://colab.research.google.com/assets/colab-badge.svg\" alt=\"Open In Colab\"/></a>"
      ]
    },
    {
      "cell_type": "code",
      "execution_count": 1,
      "metadata": {
        "colab": {
          "base_uri": "https://localhost:8080/"
        },
        "id": "FZsExtLnktm1",
        "outputId": "dc985792-8923-49fa-c7e1-2949171ba3f1"
      },
      "outputs": [
        {
          "output_type": "stream",
          "name": "stdout",
          "text": [
            "Writing greaterscript.py\n"
          ]
        }
      ],
      "source": [
        "%%writefile greaterscript.py\n",
        "def find_greater():\n",
        "  x1 = input('Enter first number: ')\n",
        "  x2 = input('Enter second number: ')\n",
        "  if x1 > x2:\n",
        "    print('The larger number is '+x1)\n",
        "  else:\n",
        "    print('The larger number is '+x2)\n",
        "\n",
        "find_greater()"
      ]
    },
    {
      "cell_type": "code",
      "source": [
        "%%writefile smallerscript.py\n",
        "\n",
        "def find_smaller():\n",
        "  x1 = input('Enter first number: ')\n",
        "  x2 = input('Enter second number: ')\n",
        "  if x1 < x2:\n",
        "    print('The smaller number is '+x1)\n",
        "  else:\n",
        "    print('The smaller number is '+x2)\n",
        "\n",
        "find_smaller()"
      ],
      "metadata": {
        "colab": {
          "base_uri": "https://localhost:8080/"
        },
        "id": "p-nDcdrMk_t8",
        "outputId": "e10af21f-d293-431b-c612-69f2ed3f0480"
      },
      "execution_count": 2,
      "outputs": [
        {
          "output_type": "stream",
          "name": "stdout",
          "text": [
            "Writing smallerscript.py\n"
          ]
        }
      ]
    },
    {
      "cell_type": "code",
      "source": [
        ""
      ],
      "metadata": {
        "id": "dxfJC0rMlL4B"
      },
      "execution_count": null,
      "outputs": []
    }
  ]
}