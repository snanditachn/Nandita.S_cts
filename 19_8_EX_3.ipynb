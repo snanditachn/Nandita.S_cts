{
  "nbformat": 4,
  "nbformat_minor": 0,
  "metadata": {
    "colab": {
      "name": "19/8-EX 3.ipynb",
      "provenance": [],
      "collapsed_sections": [],
      "authorship_tag": "ABX9TyOxy6e97eHCelWl3m5dJv9t",
      "include_colab_link": true
    },
    "kernelspec": {
      "name": "python3",
      "display_name": "Python 3"
    },
    "language_info": {
      "name": "python"
    }
  },
  "cells": [
    {
      "cell_type": "markdown",
      "metadata": {
        "id": "view-in-github",
        "colab_type": "text"
      },
      "source": [
        "<a href=\"https://colab.research.google.com/github/snanditachn/Nandita.S_cts/blob/main/19_8_EX_3.ipynb\" target=\"_parent\"><img src=\"https://colab.research.google.com/assets/colab-badge.svg\" alt=\"Open In Colab\"/></a>"
      ]
    },
    {
      "cell_type": "code",
      "source": [
        "mysent= input(\"type a sentence:\")\n",
        "item= mysent.split()\n",
        "myd={}\n",
        "for key in item:\n",
        "  myd[key]=item.count(key)\n",
        "print(\"count of words:\", myd)"
      ],
      "metadata": {
        "colab": {
          "base_uri": "https://localhost:8080/"
        },
        "id": "Bw9_uJc46oGo",
        "outputId": "b706496c-81e1-47cf-ea6e-81d89a5ccef3"
      },
      "execution_count": 35,
      "outputs": [
        {
          "output_type": "stream",
          "name": "stdout",
          "text": [
            "type a sentence:hi frd i saw my frd my frd is in chn i love chn chn is cap of tn tn is my state\n",
            "count of words: {'hi': 1, 'frd': 3, 'i': 2, 'saw': 1, 'my': 3, 'is': 3, 'in': 1, 'chn': 3, 'love': 1, 'cap': 1, 'of': 1, 'tn': 2, 'state': 1}\n"
          ]
        }
      ]
    },
    {
      "cell_type": "code",
      "source": [
        ""
      ],
      "metadata": {
        "id": "QvOs4yDb94ec"
      },
      "execution_count": null,
      "outputs": []
    }
  ]
}