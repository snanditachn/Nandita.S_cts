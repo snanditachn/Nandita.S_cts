{
  "nbformat": 4,
  "nbformat_minor": 0,
  "metadata": {
    "colab": {
      "name": "19/8-EX 3.ipynb",
      "provenance": [],
      "collapsed_sections": [],
      "authorship_tag": "ABX9TyOFDTb1Lu/v9P4+2BCinPT2",
      "include_colab_link": true
    },
    "kernelspec": {
      "name": "python3",
      "display_name": "Python 3"
    },
    "language_info": {
      "name": "python"
    }
  },
  "cells": [
    {
      "cell_type": "markdown",
      "metadata": {
        "id": "view-in-github",
        "colab_type": "text"
      },
      "source": [
        "<a href=\"https://colab.research.google.com/github/snanditachn/Nandita.S_cts/blob/main/19_8_EX_3.ipynb\" target=\"_parent\"><img src=\"https://colab.research.google.com/assets/colab-badge.svg\" alt=\"Open In Colab\"/></a>"
      ]
    },
    {
      "cell_type": "code",
      "source": [
        "string = input(\"type ur sentence:\")\n",
        "words = []\n",
        "\n",
        "items = string.split() \n",
        "dict1 = {}\n",
        "for key in items:\n",
        "    dict1[key] = items.count(key)\n",
        "\n",
        "print(\"Items count  :  \", dict1)"
      ],
      "metadata": {
        "colab": {
          "base_uri": "https://localhost:8080/"
        },
        "id": "qrd42-mc0sLD",
        "outputId": "e89f2200-bccb-40c0-cabe-076a0862d845"
      },
      "execution_count": 33,
      "outputs": [
        {
          "output_type": "stream",
          "name": "stdout",
          "text": [
            "type ur sentence:how are you and how is ur pet\n",
            "Items count  :   {'how': 2, 'are': 1, 'you': 1, 'and': 1, 'is': 1, 'ur': 1, 'pet': 1}\n"
          ]
        }
      ]
    },
    {
      "cell_type": "code",
      "source": [
        ""
      ],
      "metadata": {
        "id": "Bw9_uJc46oGo"
      },
      "execution_count": null,
      "outputs": []
    }
  ]
}