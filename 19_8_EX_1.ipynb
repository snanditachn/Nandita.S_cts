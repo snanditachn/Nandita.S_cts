{
  "nbformat": 4,
  "nbformat_minor": 0,
  "metadata": {
    "colab": {
      "name": "19/8-EX 1.ipynb",
      "provenance": [],
      "collapsed_sections": [],
      "authorship_tag": "ABX9TyPDwiTBCGUyggUZs19LXNr4",
      "include_colab_link": true
    },
    "kernelspec": {
      "name": "python3",
      "display_name": "Python 3"
    },
    "language_info": {
      "name": "python"
    }
  },
  "cells": [
    {
      "cell_type": "markdown",
      "metadata": {
        "id": "view-in-github",
        "colab_type": "text"
      },
      "source": [
        "<a href=\"https://colab.research.google.com/github/snanditachn/Nandita.S_cts/blob/main/19_8_EX_1.ipynb\" target=\"_parent\"><img src=\"https://colab.research.google.com/assets/colab-badge.svg\" alt=\"Open In Colab\"/></a>"
      ]
    },
    {
      "cell_type": "code",
      "source": [
        "def mylist():\n",
        "  wdup = [x for x in input(\"Enter the numbers separated by comma:\").split(',')]\n",
        "  wodup = list(set(wdup))\n",
        "  print([int(i) for i in wodup])"
      ],
      "metadata": {
        "id": "2gNDFracqXE3"
      },
      "execution_count": 25,
      "outputs": []
    },
    {
      "cell_type": "code",
      "source": [
        "mylist()"
      ],
      "metadata": {
        "colab": {
          "base_uri": "https://localhost:8080/"
        },
        "id": "oWqDxyLUwEI1",
        "outputId": "77f59a2e-1f6f-42d1-b5fa-9dadb4f6c877"
      },
      "execution_count": 26,
      "outputs": [
        {
          "output_type": "stream",
          "name": "stdout",
          "text": [
            "Enter the numbers separated by comma:1,3,2,4,3,2,4,5,2,5,6,7,8,6\n",
            "[4, 7, 5, 8, 6, 2, 3, 1]\n"
          ]
        }
      ]
    },
    {
      "cell_type": "code",
      "source": [
        ""
      ],
      "metadata": {
        "id": "6Wd5edChwHXq"
      },
      "execution_count": null,
      "outputs": []
    }
  ]
}