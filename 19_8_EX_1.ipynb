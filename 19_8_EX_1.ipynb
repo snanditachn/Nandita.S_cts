{
  "nbformat": 4,
  "nbformat_minor": 0,
  "metadata": {
    "colab": {
      "name": "19/8-EX 1.ipynb",
      "provenance": [],
      "collapsed_sections": [],
      "authorship_tag": "ABX9TyNAwlpmBzp84d6aeS4CbidV",
      "include_colab_link": true
    },
    "kernelspec": {
      "name": "python3",
      "display_name": "Python 3"
    },
    "language_info": {
      "name": "python"
    }
  },
  "cells": [
    {
      "cell_type": "markdown",
      "metadata": {
        "id": "view-in-github",
        "colab_type": "text"
      },
      "source": [
        "<a href=\"https://colab.research.google.com/github/snanditachn/Nandita.S_cts/blob/main/19_8_EX_1.ipynb\" target=\"_parent\"><img src=\"https://colab.research.google.com/assets/colab-badge.svg\" alt=\"Open In Colab\"/></a>"
      ]
    },
    {
      "cell_type": "code",
      "execution_count": 1,
      "metadata": {
        "id": "3G8YZD8DmIcF"
      },
      "outputs": [],
      "source": [
        "list1=[1,3,2,4,5,6,9,7,5,7,6,4,3,6,7,1,2,3]"
      ]
    },
    {
      "cell_type": "code",
      "source": [
        "list1"
      ],
      "metadata": {
        "colab": {
          "base_uri": "https://localhost:8080/"
        },
        "id": "mScBOAoGmdGy",
        "outputId": "f78d9c9d-a2c4-4047-ecfe-dfce130bc517"
      },
      "execution_count": 3,
      "outputs": [
        {
          "output_type": "execute_result",
          "data": {
            "text/plain": [
              "[1, 3, 2, 4, 5, 6, 9, 7, 5, 7, 6, 4, 3, 6, 7, 1, 2, 3]"
            ]
          },
          "metadata": {},
          "execution_count": 3
        }
      ]
    },
    {
      "cell_type": "code",
      "source": [
        "def unique(list1):        #removing duplicates without set func\n",
        "    unique_list = []\n",
        "    for x in list1:\n",
        "      if x not in unique_list:\n",
        "            unique_list.append(x)\n",
        "    for x in unique_list:\n",
        "        print (x),"
      ],
      "metadata": {
        "id": "X3p-RfPgmeTn"
      },
      "execution_count": 15,
      "outputs": []
    },
    {
      "cell_type": "code",
      "source": [
        "print (unique(list1))"
      ],
      "metadata": {
        "colab": {
          "base_uri": "https://localhost:8080/"
        },
        "id": "xfnmXtoaoCfS",
        "outputId": "7bc8adc5-8a30-47de-f42a-4097023b6e3b"
      },
      "execution_count": 16,
      "outputs": [
        {
          "output_type": "stream",
          "name": "stdout",
          "text": [
            "1\n",
            "3\n",
            "2\n",
            "4\n",
            "5\n",
            "6\n",
            "9\n",
            "7\n",
            "None\n"
          ]
        }
      ]
    },
    {
      "cell_type": "code",
      "source": [
        "list2=[2,2,3,3,4,4,5,5,6,1]   #removing duplicates using set func\n",
        "set(list2)"
      ],
      "metadata": {
        "colab": {
          "base_uri": "https://localhost:8080/"
        },
        "id": "sAUwWcVjoD7N",
        "outputId": "3810ef11-d067-4eb9-ca06-0bedb271bc9a"
      },
      "execution_count": 17,
      "outputs": [
        {
          "output_type": "execute_result",
          "data": {
            "text/plain": [
              "{1, 2, 3, 4, 5, 6}"
            ]
          },
          "metadata": {},
          "execution_count": 17
        }
      ]
    },
    {
      "cell_type": "code",
      "source": [
        ""
      ],
      "metadata": {
        "id": "2gNDFracqXE3"
      },
      "execution_count": null,
      "outputs": []
    }
  ]
}