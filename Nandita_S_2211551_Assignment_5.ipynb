{
  "nbformat": 4,
  "nbformat_minor": 0,
  "metadata": {
    "colab": {
      "provenance": [],
      "collapsed_sections": [
        "Aj79X9ZwexLI",
        "1F8skfTjgkZB",
        "DKa_HlcUiOJR",
        "PNE3qp99hkMS",
        "un8qaElki1T-",
        "DLfIIkG5kj34",
        "bUFhkTpylRkm",
        "BpLQauVVmjkk"
      ],
      "authorship_tag": "ABX9TyNyVLYfLLBOzfTzOaJW9YM1",
      "include_colab_link": true
    },
    "kernelspec": {
      "name": "python3",
      "display_name": "Python 3"
    },
    "language_info": {
      "name": "python"
    }
  },
  "cells": [
    {
      "cell_type": "markdown",
      "metadata": {
        "id": "view-in-github",
        "colab_type": "text"
      },
      "source": [
        "<a href=\"https://colab.research.google.com/github/snanditachn/Nandita.S_cts/blob/main/Nandita_S_2211551_Assignment_5.ipynb\" target=\"_parent\"><img src=\"https://colab.research.google.com/assets/colab-badge.svg\" alt=\"Open In Colab\"/></a>"
      ]
    },
    {
      "cell_type": "markdown",
      "source": [
        "## The Basics: Training my first neural network"
      ],
      "metadata": {
        "id": "6Uv7FlJtasjA"
      }
    },
    {
      "cell_type": "markdown",
      "source": [
        "1. We will use Tensorflow\n",
        "2. Keras is intergrated into tf\n",
        "3. Train with the given data\n",
        "4. Improve the model with added data"
      ],
      "metadata": {
        "id": "otC_1koTa11f"
      }
    },
    {
      "cell_type": "markdown",
      "source": [
        "We have to convert from clesius to farenheit, with appropriate formula.\n",
        "\n",
        "Of course, it would be simple enouh to create a conventional Python function that directly performs this calculation, but that is not machine learning.\n",
        "\n",
        "Instead, we will give Tensorflow some celsius values, and their corresponding fahrenheit values. Then we will train a model that figures out the formula through the training process."
      ],
      "metadata": {
        "id": "xVU3C5ilcst6"
      }
    },
    {
      "cell_type": "code",
      "execution_count": null,
      "metadata": {
        "id": "vOYAu4EjXLTO"
      },
      "outputs": [],
      "source": [
        "import tensorflow as tf"
      ]
    },
    {
      "cell_type": "code",
      "source": [
        "tf.__version__"
      ],
      "metadata": {
        "colab": {
          "base_uri": "https://localhost:8080/",
          "height": 36
        },
        "id": "5ohrgsc_bwqL",
        "outputId": "a61edc6f-863a-462e-cfe9-8770d5a1f823"
      },
      "execution_count": null,
      "outputs": [
        {
          "output_type": "execute_result",
          "data": {
            "text/plain": [
              "'2.9.2'"
            ],
            "application/vnd.google.colaboratory.intrinsic+json": {
              "type": "string"
            }
          },
          "metadata": {},
          "execution_count": 4
        }
      ]
    },
    {
      "cell_type": "code",
      "source": [
        "import numpy as np\n",
        "import logging\n",
        "logger = tf.get_logger()\n",
        "logger.setLevel(logging.ERROR)"
      ],
      "metadata": {
        "id": "LdaRTnpJehf6"
      },
      "execution_count": null,
      "outputs": []
    },
    {
      "cell_type": "markdown",
      "source": [
        "## Setting up Training data"
      ],
      "metadata": {
        "id": "Aj79X9ZwexLI"
      }
    },
    {
      "cell_type": "markdown",
      "source": [
        "As we saw before, supervised Machine Learning is all about figuring out an algorithm given a set of inputs and outputs. \n",
        "\n",
        "Since the task in this codelab is to create a model that can give the temperature in fahrenheit when given the degrees in celcius, we create 2 lists, celsius_q and fahrenheit_a that we can use to train our model."
      ],
      "metadata": {
        "id": "_-2CyaKHe4y7"
      }
    },
    {
      "cell_type": "code",
      "source": [
        "celsius_q = np.array([-40, -10, 0, 8, 15, 22, 38])\n",
        "fahrenheit_a = np.array([-40,  14, 32, 46, 59, 72, 100],  dtype=float)\n",
        "for i,c in enumerate(celsius_q):\n",
        "  print(\"{} degrees Celsius = {} degrees Fahrenheit\".format(c, fahrenheit_a[i]))"
      ],
      "metadata": {
        "colab": {
          "base_uri": "https://localhost:8080/"
        },
        "id": "BDLLC-Bqe0WH",
        "outputId": "4efce1b8-1881-40c3-9d53-80143344f896"
      },
      "execution_count": null,
      "outputs": [
        {
          "output_type": "stream",
          "name": "stdout",
          "text": [
            "-40 degrees Celsius = -40.0 degrees Fahrenheit\n",
            "-10 degrees Celsius = 14.0 degrees Fahrenheit\n",
            "0 degrees Celsius = 32.0 degrees Fahrenheit\n",
            "8 degrees Celsius = 46.0 degrees Fahrenheit\n",
            "15 degrees Celsius = 59.0 degrees Fahrenheit\n",
            "22 degrees Celsius = 72.0 degrees Fahrenheit\n",
            "38 degrees Celsius = 100.0 degrees Fahrenheit\n"
          ]
        }
      ]
    },
    {
      "cell_type": "markdown",
      "source": [
        "Feature — The input(s) to our model. \n",
        "          In this case, a single value — the degrees is Celsius.\n",
        "\n",
        "Labels —  The output our model predicts. \n",
        "          In this case, a single value — the degrees in Fahrenheit.\n",
        " \n",
        " Example — A pair of inputs/outputs used during training. \n",
        "         In our case a pair of values from celsius_q and fahrenheit_a at a specific index, such as (22,72)."
      ],
      "metadata": {
        "id": "pXekJZPWhPqA"
      }
    },
    {
      "cell_type": "markdown",
      "source": [
        "## Create the Model\n"
      ],
      "metadata": {
        "id": "1F8skfTjgkZB"
      }
    },
    {
      "cell_type": "markdown",
      "source": [
        "Next, create the model. We will use the simplest possible model we can, a dense network. Since the problem is straightforward, this network will require only a single layer, with a single neuron.\n",
        "\n"
      ],
      "metadata": {
        "id": "Ao-IyqI-h0y1"
      }
    },
    {
      "cell_type": "markdown",
      "source": [
        "## Build a layer"
      ],
      "metadata": {
        "id": "DKa_HlcUiOJR"
      }
    },
    {
      "cell_type": "markdown",
      "source": [
        "We will call that layer l0 and create it by installing \n",
        "\n",
        "tf.keras.layers.Dense\n",
        "\n",
        "with the following configurations,\n",
        "\n",
        "\n",
        "\n",
        "1.   input_shape=[1] -- This tells that the input to this layer is a single value. That is, the shape is a one-dimensional array with one member. Since this is the first and only layer, that input shape is the input shape of the entire model.\n",
        "The single value is a floating point number, representing degrees Celsius.\n",
        "2.   units=1 -- This is the number of neurons in the layer. the number of neurons defines how many internal variables the layer h to try to learn how to solve the problem. Since this is the final layer, it is also the size of the model's output - a single float value representing degrees fahrenheit.\n",
        "\n",
        "In a multi-layered network, the size and shape of the layer would need to match the input_shape of the next layer.\n",
        "\n"
      ],
      "metadata": {
        "id": "NCPdTlGqiRCo"
      }
    },
    {
      "cell_type": "code",
      "source": [
        "l0 = tf.keras.layers.Dense(units=1, input_shape = [1])"
      ],
      "metadata": {
        "id": "rSCusK4sgYiO"
      },
      "execution_count": null,
      "outputs": []
    },
    {
      "cell_type": "markdown",
      "source": [
        "## Assemble layers into model"
      ],
      "metadata": {
        "id": "PNE3qp99hkMS"
      }
    },
    {
      "cell_type": "markdown",
      "source": [
        "Once layers are defined, they should be asembled into a model. \n",
        "\n",
        "The sequential model definition takes a list of layers as an argument and specifies the calculation order from the input to the output.\n",
        "\n",
        "We have used only 1 layer l0 in this example."
      ],
      "metadata": {
        "id": "6PG2RRqdhoEX"
      }
    },
    {
      "cell_type": "code",
      "source": [
        "model = tf.keras.Sequential([l0])"
      ],
      "metadata": {
        "id": "FY3llmRuh2WQ"
      },
      "execution_count": null,
      "outputs": []
    },
    {
      "cell_type": "markdown",
      "source": [
        "(model is created so easily, with tensorflow)"
      ],
      "metadata": {
        "id": "GaXtpSHpiBqJ"
      }
    },
    {
      "cell_type": "code",
      "source": [
        "# model can be created by running this code instead of the above 2 codes\n",
        "\"\"\"model = tf.kers.Sequential([\n",
        "  tf.keras.layers.Dense(units=1, input_shape=[1])\n",
        "])\"\"\""
      ],
      "metadata": {
        "id": "ny4_TtKHhhnr"
      },
      "execution_count": null,
      "outputs": []
    },
    {
      "cell_type": "markdown",
      "source": [
        "## Compile the Model"
      ],
      "metadata": {
        "id": "un8qaElki1T-"
      }
    },
    {
      "cell_type": "markdown",
      "source": [
        "Before training , the model should be compiled. \n",
        "The model is given the following functions when compiled for training,\n",
        "\n",
        "\n",
        "\n",
        "*   Loss function -- A way of measuring how far off predictions are from the desired outcome. Loss is the measured difference.\n",
        "*   Optimizer function -- a way of adjusting internal values in order to reduce the loss\n",
        "\n"
      ],
      "metadata": {
        "id": "YKhU_Tu4i9bC"
      }
    },
    {
      "cell_type": "code",
      "source": [
        "model.compile(loss='mean_squared_error',\n",
        "              optimizer=tf.keras.optimizers.Adam(0.1))"
      ],
      "metadata": {
        "id": "zknOO_GMi-A1"
      },
      "execution_count": null,
      "outputs": []
    },
    {
      "cell_type": "markdown",
      "source": [
        "These are used during training to first calculate the loss at each point, and then improve it. In fact, the act of calculating the current loss of a model and then improving it is precisely what training is.\n",
        "\n",
        "During training, the optimizer function is used to calculate adjustments to the model's interval variables. The goal is to adjust the internal variables until the model mirrors the actual equation for converting celcius to fahrenheit.\n",
        "\n",
        "Tensorflow uses numerical analysis to perform this tuning, and all this complexity is hidden fro you so we will not goo into the details here. What is useful to know about these parameters are:\n",
        "\n",
        "The loss function, meansquared mean and the optimizer, Adam used here are standard for a simple models like this one, but many others are available. It is not important to know how these specific functions work at this point.\n",
        "\n",
        "One part of the optimizer you may need to think about when building yourown models is the learning rate. This is the step size taken when adjusting values in the model. If the value is too small, it will take too many iterations to train the model. Too large learning rate will reduce the accuracy. Finding a good value often involves some trial and error, but the range is usually within 0.001(default) and 0.1\n"
      ],
      "metadata": {
        "id": "eJZkhjIWjp6p"
      }
    },
    {
      "cell_type": "markdown",
      "source": [
        "## Train the model"
      ],
      "metadata": {
        "id": "DLfIIkG5kj34"
      }
    },
    {
      "cell_type": "markdown",
      "source": [
        "Training is done by 'fit' method.\n",
        "\n",
        "During training, the model takes in celsius values, performs a calculation using the current interval variables( called weights) and outputs values which are meant to be the fahrenheit equivalent. Since the weights are initially set randomly, the output will not be close to the correct value. The difference between the actual output and the desired output is calculated using the loss function, and the optimizer function directs how the weights should be adjusted.\n",
        "\n",
        "This cycle of calculate, compare, adjust is controlled by the 'fit' method. The first argument is the input, the second argument is the desired outputs. The Epochs Argument specifies how many times this cycle should be run, and the Verbose argument controls how much output the method produces."
      ],
      "metadata": {
        "id": "j0eT2wykklwg"
      }
    },
    {
      "cell_type": "code",
      "source": [
        "history = model.fit(celsius_q, fahrenheit_a, epochs=500, verbose=False)\n",
        "print(\"Finished training the model\")"
      ],
      "metadata": {
        "colab": {
          "base_uri": "https://localhost:8080/"
        },
        "id": "aTm1NiUxkjXe",
        "outputId": "11c51ea9-39eb-4a2b-828b-a9c0a3d53b08"
      },
      "execution_count": null,
      "outputs": [
        {
          "output_type": "stream",
          "name": "stdout",
          "text": [
            "Finished training the model\n"
          ]
        }
      ]
    },
    {
      "cell_type": "markdown",
      "source": [
        "## Display training stats"
      ],
      "metadata": {
        "id": "bUFhkTpylRkm"
      }
    },
    {
      "cell_type": "markdown",
      "source": [
        "The fit method returns a history object. We use it to plot how the loss of the model goesdown after each training epoch. Ahigh loss means that the fahrenheit degrees the model predicts is far from the corresponding value in fahrenheit_a\n",
        "\n",
        "Using matplotlib, we can visualise this. As you see,our model improves very quicly at first, and then has a steady, slow improvement untill its very near 'perfect' towards the end."
      ],
      "metadata": {
        "id": "euXxWztslmTd"
      }
    },
    {
      "cell_type": "code",
      "source": [
        "import matplotlib.pyplot as plt\n",
        "plt.xlabel('Epoch number')\n",
        "plt.ylabel('loss magnitude')\n",
        "plt.plot(history.history['loss'])"
      ],
      "metadata": {
        "colab": {
          "base_uri": "https://localhost:8080/",
          "height": 296
        },
        "id": "ZSMoASuulOzp",
        "outputId": "83bddc85-fa97-42c7-d0a4-a95c32ba0273"
      },
      "execution_count": null,
      "outputs": [
        {
          "output_type": "execute_result",
          "data": {
            "text/plain": [
              "[<matplotlib.lines.Line2D at 0x7f5acafca2d0>]"
            ]
          },
          "metadata": {},
          "execution_count": 10
        },
        {
          "output_type": "display_data",
          "data": {
            "text/plain": [
              "<Figure size 432x288 with 1 Axes>"
            ],
            "image/png": "[encoded data removed]"
          },
          "metadata": {
            "needs_background": "light"
          }
        }
      ]
    },
    {
      "cell_type": "markdown",
      "source": [
        "## Use the model to predict values"
      ],
      "metadata": {
        "id": "BpLQauVVmjkk"
      }
    },
    {
      "cell_type": "markdown",
      "source": [
        "Now we have a model that has been trained to learn the relationship beteen celsius_q and fahrenheit_a. You can use the pedict method to have it calculate the fahrenheit degrees for a precisely unknown Celcius degrees.\n",
        "\n",
        "So, If celsius is 100, we ll try to predict the fahrenheit value, using our model."
      ],
      "metadata": {
        "id": "8Yu4I7GfvVGd"
      }
    },
    {
      "cell_type": "code",
      "source": [
        "print(model.predict([100.0]))"
      ],
      "metadata": {
        "colab": {
          "base_uri": "https://localhost:8080/"
        },
        "id": "CtMZUH-FmI50",
        "outputId": "89e65a9a-ead5-41a9-d387-02c222d0063f"
      },
      "execution_count": null,
      "outputs": [
        {
          "output_type": "stream",
          "name": "stdout",
          "text": [
            "1/1 [==============================] - 0s 77ms/step\n",
            "[[211.33078]]\n"
          ]
        }
      ]
    },
    {
      "cell_type": "markdown",
      "source": [
        "We predict for 100 celsius as its not a part of our data."
      ],
      "metadata": {
        "id": "SnxIUILToesD"
      }
    },
    {
      "cell_type": "markdown",
      "source": [
        "The boiling point in farenheit is 212.\n",
        "\n",
        "As we trained using a small data, the prediction is not accurate.\n",
        " \n",
        "To improve this we have to give more data or the machine to learn.\n",
        "\n",
        "If we give more data, the model can overpredict the value, and show 213. or underpredict and show, 173.\n",
        "\n",
        "For this we need to do many experiments and using trial and error we can find a data and model wich predicts accurately."
      ],
      "metadata": {
        "id": "3rAnYE-bmvfD"
      }
    },
    {
      "cell_type": "code",
      "source": [
        "print(\"layer variables:{}\".format(l0.get_weights()))"
      ],
      "metadata": {
        "colab": {
          "base_uri": "https://localhost:8080/"
        },
        "id": "Lz7UsPjOnQN6",
        "outputId": "ca93be34-fefd-4a78-e021-6e1920df4ebd"
      },
      "execution_count": null,
      "outputs": [
        {
          "output_type": "stream",
          "name": "stdout",
          "text": [
            "layer variables:[array([[1.8216144]], dtype=float32), array([29.169334], dtype=float32)]\n"
          ]
        }
      ]
    },
    {
      "cell_type": "code",
      "source": [
        "l0 = tf.keras.layers.Dense(units=4, input_shape=[1])\n",
        "l1 = tf.keras.layers.Dense(units=4)\n",
        "l2 = tf.keras.layers.Dense(units=1)\n",
        "model = tf.keras.Sequential([l0, l1, l2])\n",
        "model.compile(loss='mean_squared_error', optimizer=tf.keras.optimizers.Adam(0.1))\n",
        "model.fit(celsius_q, fahrenheit_a, epochs=500, verbose=False)\n",
        "print(\"Finished training the model\")\n",
        "print(model.predict([100.0]))\n",
        "print(\"Model predicts that 100 degrees Celsius is: {} degrees Fahrenheit\".format(model.predict([100.0])))\n",
        "print(\"These are the l0 variables: {}\".format(l0.get_weights()))\n",
        "print(\"These are the l1 variables: {}\".format(l1.get_weights()))\n",
        "print(\"These are the l2 variables: {}\".format(l2.get_weights()))"
      ],
      "metadata": {
        "colab": {
          "base_uri": "https://localhost:8080/"
        },
        "id": "wrBEPENxqhV6",
        "outputId": "c31db091-fc0f-4b54-f872-bcb1059d14d0"
      },
      "execution_count": null,
      "outputs": [
        {
          "output_type": "stream",
          "name": "stdout",
          "text": [
            "Finished training the model\n",
            "1/1 [==============================] - 0s 57ms/step\n",
            "[[211.74744]]\n",
            "1/1 [==============================] - 0s 29ms/step\n",
            "Model predicts that 100 degrees Celsius is: [[211.74744]] degrees Fahrenheit\n",
            "These are the l0 variables: [array([[ 0.70396763, -0.35244745, -0.30848685,  0.43946347]],\n",
            "      dtype=float32), array([3.3825917, 1.6974581, 1.8917744, 3.4170501], dtype=float32)]\n",
            "These are the l1 variables: [array([[ 0.08446286, -1.3092208 , -1.4259516 ,  0.7403801 ],\n",
            "       [ 0.43533754, -0.2118044 , -0.24466069,  1.1869311 ],\n",
            "       [ 0.1582033 , -0.76564145, -0.15756066,  0.74000484],\n",
            "       [ 0.4034703 , -0.37028918, -1.330203  ,  1.3141707 ]],\n",
            "      dtype=float32), array([-0.2847425, -2.8154511, -2.680517 ,  3.516403 ], dtype=float32)]\n",
            "These are the l2 variables: [array([[-0.21332772],\n",
            "       [-0.7489516 ],\n",
            "       [-0.5055878 ],\n",
            "       [ 1.0861462 ]], dtype=float32), array([3.1627915], dtype=float32)]\n"
          ]
        }
      ]
    },
    {
      "cell_type": "markdown",
      "source": [
        "Change the epoch values and experiment, \n",
        "\n",
        "1 epoch is after, all the 9 eg data, it gives the cummulative loss.\n",
        "\n",
        "More epoch, it goes through the data more times, \n",
        "\n",
        "Whereas learning rate is the step size.in this example as the data is small, learning rate is not of much importance, but with real data it is very important.\n",
        "\n",
        "Early stopping - like breaking the speed of the learning, it will stop the learning in the beggining and the epoch values will have no impact in the accuracy.(will see in next assignment)\n",
        "\n"
      ],
      "metadata": {
        "id": "K7sAdHCpscx6"
      }
    },
    {
      "cell_type": "markdown",
      "source": [
        "### In this assignment, get experiment with data, by adding more egs and adjustig epoch, learning rate, etc., to get the most accurate prediction possible."
      ],
      "metadata": {
        "id": "fhR5T-EHuPr9"
      }
    },
    {
      "cell_type": "markdown",
      "source": [
        "## Trail and error to get higher accuracy in prediction."
      ],
      "metadata": {
        "id": "GhoXfb0Bwhhq"
      }
    },
    {
      "cell_type": "code",
      "source": [
        "celsius_q = np.array([-40, -10, 0, 8, 15, 22, 38, 45, 10, 65, 55])\n",
        "fahrenheit_a = np.array([-40,  14, 32, 46.4, 59, 71.6, 100.4, 113, 50, 149, 131],  dtype=float)\n",
        "for i,c in enumerate(celsius_q):\n",
        "  print(\"{} degrees Celsius = {} degrees Fahrenheit\".format(c, fahrenheit_a[i]))"
      ],
      "metadata": {
        "colab": {
          "base_uri": "https://localhost:8080/"
        },
        "id": "_OkJ4lnQwv3R",
        "outputId": "ba3a0f3c-4929-4f53-bf66-90b88eee4259"
      },
      "execution_count": null,
      "outputs": [
        {
          "output_type": "stream",
          "name": "stdout",
          "text": [
            "-40 degrees Celsius = -40.0 degrees Fahrenheit\n",
            "-10 degrees Celsius = 14.0 degrees Fahrenheit\n",
            "0 degrees Celsius = 32.0 degrees Fahrenheit\n",
            "8 degrees Celsius = 46.4 degrees Fahrenheit\n",
            "15 degrees Celsius = 59.0 degrees Fahrenheit\n",
            "22 degrees Celsius = 71.6 degrees Fahrenheit\n",
            "38 degrees Celsius = 100.4 degrees Fahrenheit\n",
            "45 degrees Celsius = 113.0 degrees Fahrenheit\n",
            "10 degrees Celsius = 50.0 degrees Fahrenheit\n",
            "65 degrees Celsius = 149.0 degrees Fahrenheit\n",
            "55 degrees Celsius = 131.0 degrees Fahrenheit\n"
          ]
        }
      ]
    },
    {
      "cell_type": "code",
      "source": [
        "l0 = tf.keras.layers.Dense(units=1, input_shape = [1])"
      ],
      "metadata": {
        "id": "E3Qac_SLxYUx"
      },
      "execution_count": null,
      "outputs": []
    },
    {
      "cell_type": "code",
      "source": [
        "model = tf.keras.Sequential([l0])"
      ],
      "metadata": {
        "id": "NSRppgcSxYP2"
      },
      "execution_count": null,
      "outputs": []
    },
    {
      "cell_type": "code",
      "source": [
        "model.compile(loss='mean_squared_error',\n",
        "              optimizer=tf.keras.optimizers.Adam(0.1))"
      ],
      "metadata": {
        "id": "io3jfJ1kxXyN"
      },
      "execution_count": null,
      "outputs": []
    },
    {
      "cell_type": "code",
      "source": [
        "history = model.fit(celsius_q, fahrenheit_a, epochs=1000, verbose=False)\n",
        "print(\"Finished training the model\")"
      ],
      "metadata": {
        "colab": {
          "base_uri": "https://localhost:8080/"
        },
        "id": "A0GxK654x48d",
        "outputId": "5337a61b-a9a8-4c3d-d37b-45c561824fdd"
      },
      "execution_count": null,
      "outputs": [
        {
          "output_type": "stream",
          "name": "stdout",
          "text": [
            "Finished training the model\n"
          ]
        }
      ]
    },
    {
      "cell_type": "code",
      "source": [
        "import matplotlib.pyplot as plt\n",
        "plt.xlabel('Epoch number')\n",
        "plt.ylabel('loss magnitude')\n",
        "plt.plot(history.history['loss'])"
      ],
      "metadata": {
        "colab": {
          "base_uri": "https://localhost:8080/",
          "height": 297
        },
        "id": "QBRFkK-Jx42R",
        "outputId": "490f660f-2310-4278-cc53-2a70512e76c9"
      },
      "execution_count": null,
      "outputs": [
        {
          "output_type": "execute_result",
          "data": {
            "text/plain": [
              "[<matplotlib.lines.Line2D at 0x7fd3949f47d0>]"
            ]
          },
          "metadata": {},
          "execution_count": 177
        },
        {
          "output_type": "display_data",
          "data": {
            "text/plain": [
              "<Figure size 432x288 with 1 Axes>"
            ],
            "image/png": "[encoded data removed]"
          },
          "metadata": {
            "needs_background": "light"
          }
        }
      ]
    },
    {
      "cell_type": "code",
      "source": [
        "print(model.predict([100.0]))"
      ],
      "metadata": {
        "colab": {
          "base_uri": "https://localhost:8080/"
        },
        "id": "BZeeXfiCyKOE",
        "outputId": "afef61ba-5ee6-4df6-e678-9016fa609205"
      },
      "execution_count": null,
      "outputs": [
        {
          "output_type": "stream",
          "name": "stdout",
          "text": [
            "1/1 [==============================] - 0s 49ms/step\n",
            "[[212.07349]]\n"
          ]
        }
      ]
    },
    {
      "cell_type": "markdown",
      "source": [],
      "metadata": {
        "id": "NM4hPs7JuzLd"
      }
    }
  ]
}