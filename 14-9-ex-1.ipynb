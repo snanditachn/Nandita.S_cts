{
 "cells": [
  {
   "cell_type": "code",
   "execution_count": 2,
   "metadata": {},
   "outputs": [
    {
     "name": "stdout",
     "output_type": "stream",
     "text": [
      "Collecting mysql-connector-python\n",
      "  Using cached mysql_connector_python-8.0.30-cp37-cp37m-win_amd64.whl (7.8 MB)\n",
      "Collecting protobuf<=3.20.1,>=3.11.0\n",
      "  Downloading protobuf-3.20.1-cp37-cp37m-win_amd64.whl (905 kB)\n",
      "Installing collected packages: protobuf, mysql-connector-python\n",
      "Successfully installed mysql-connector-python-8.0.30 protobuf-3.20.1\n",
      "Note: you may need to restart the kernel to use updated packages.\n"
     ]
    }
   ],
   "source": [
    "pip install mysql-connector-python"
   ]
  },
  {
   "cell_type": "code",
   "execution_count": 3,
   "metadata": {},
   "outputs": [],
   "source": [
    "import mysql.connector"
   ]
  },
  {
   "cell_type": "code",
   "execution_count": 4,
   "metadata": {},
   "outputs": [],
   "source": [
    "mydb = mysql.connector.connect(\n",
    "host = \"localhost\",\n",
    "user = \"root\",\n",
    "password = \"password\")"
   ]
  },
  {
   "cell_type": "code",
   "execution_count": 5,
   "metadata": {},
   "outputs": [],
   "source": [
    "mycursor = mydb.cursor()\n",
    "mycursor.execute(\"SHOW DATABASES\")"
   ]
  },
  {
   "cell_type": "code",
   "execution_count": 6,
   "metadata": {},
   "outputs": [
    {
     "name": "stdout",
     "output_type": "stream",
     "text": [
      "('information_schema',)\n",
      "('mysql',)\n",
      "('performance_schema',)\n",
      "('sakila',)\n",
      "('sys',)\n",
      "('trail1',)\n",
      "('world',)\n"
     ]
    }
   ],
   "source": [
    "for i in mycursor:\n",
    "    print(i)"
   ]
  },
  {
   "cell_type": "code",
   "execution_count": 7,
   "metadata": {},
   "outputs": [],
   "source": [
    "#Taking one database\n",
    "mydb = mysql.connector.connect(\n",
    "host = \"localhost\",\n",
    "user = \"root\",\n",
    "password = \"password\",\n",
    "database=\"sakila\")"
   ]
  },
  {
   "cell_type": "code",
   "execution_count": 8,
   "metadata": {},
   "outputs": [],
   "source": [
    "mycursor = mydb.cursor()\n",
    "mycursor.execute(\"select*from actor\")"
   ]
  },
  {
   "cell_type": "code",
   "execution_count": 9,
   "metadata": {},
   "outputs": [
    {
     "name": "stdout",
     "output_type": "stream",
     "text": [
      "(1, 'PENELOPE', 'GUINESS', datetime.datetime(2006, 2, 15, 4, 34, 33))\n",
      "(2, 'NICK', 'WAHLBERG', datetime.datetime(2006, 2, 15, 4, 34, 33))\n",
      "(3, 'ED', 'CHASE', datetime.datetime(2006, 2, 15, 4, 34, 33))\n",
      "(4, 'JENNIFER', 'DAVIS', datetime.datetime(2006, 2, 15, 4, 34, 33))\n",
      "(5, 'JOHNNY', 'LOLLOBRIGIDA', datetime.datetime(2006, 2, 15, 4, 34, 33))\n",
      "(6, 'BETTE', 'NICHOLSON', datetime.datetime(2006, 2, 15, 4, 34, 33))\n",
      "(7, 'GRACE', 'MOSTEL', datetime.datetime(2006, 2, 15, 4, 34, 33))\n",
      "(8, 'MATTHEW', 'JOHANSSON', datetime.datetime(2006, 2, 15, 4, 34, 33))\n",
      "(9, 'JOE', 'SWANK', datetime.datetime(2006, 2, 15, 4, 34, 33))\n",
      "(10, 'CHRISTIAN', 'GABLE', datetime.datetime(2006, 2, 15, 4, 34, 33))\n",
      "(11, 'ZERO', 'CAGE', datetime.datetime(2006, 2, 15, 4, 34, 33))\n",
      "(12, 'KARL', 'BERRY', datetime.datetime(2006, 2, 15, 4, 34, 33))\n",
      "(13, 'UMA', 'WOOD', datetime.datetime(2006, 2, 15, 4, 34, 33))\n",
      "(14, 'VIVIEN', 'BERGEN', datetime.datetime(2006, 2, 15, 4, 34, 33))\n",
      "(15, 'CUBA', 'OLIVIER', datetime.datetime(2006, 2, 15, 4, 34, 33))\n",
      "(16, 'FRED', 'COSTNER', datetime.datetime(2006, 2, 15, 4, 34, 33))\n",
      "(17, 'HELEN', 'VOIGHT', datetime.datetime(2006, 2, 15, 4, 34, 33))\n",
      "(18, 'DAN', 'TORN', datetime.datetime(2006, 2, 15, 4, 34, 33))\n",
      "(19, 'BOB', 'FAWCETT', datetime.datetime(2006, 2, 15, 4, 34, 33))\n",
      "(20, 'LUCILLE', 'TRACY', datetime.datetime(2006, 2, 15, 4, 34, 33))\n",
      "(21, 'KIRSTEN', 'PALTROW', datetime.datetime(2006, 2, 15, 4, 34, 33))\n",
      "(22, 'ELVIS', 'MARX', datetime.datetime(2006, 2, 15, 4, 34, 33))\n",
      "(23, 'SANDRA', 'KILMER', datetime.datetime(2006, 2, 15, 4, 34, 33))\n",
      "(24, 'CAMERON', 'STREEP', datetime.datetime(2006, 2, 15, 4, 34, 33))\n",
      "(25, 'KEVIN', 'BLOOM', datetime.datetime(2006, 2, 15, 4, 34, 33))\n",
      "(26, 'RIP', 'CRAWFORD', datetime.datetime(2006, 2, 15, 4, 34, 33))\n",
      "(27, 'JULIA', 'MCQUEEN', datetime.datetime(2006, 2, 15, 4, 34, 33))\n",
      "(28, 'WOODY', 'HOFFMAN', datetime.datetime(2006, 2, 15, 4, 34, 33))\n",
      "(29, 'ALEC', 'WAYNE', datetime.datetime(2006, 2, 15, 4, 34, 33))\n",
      "(30, 'SANDRA', 'PECK', datetime.datetime(2006, 2, 15, 4, 34, 33))\n",
      "(31, 'SISSY', 'SOBIESKI', datetime.datetime(2006, 2, 15, 4, 34, 33))\n",
      "(32, 'TIM', 'HACKMAN', datetime.datetime(2006, 2, 15, 4, 34, 33))\n",
      "(33, 'MILLA', 'PECK', datetime.datetime(2006, 2, 15, 4, 34, 33))\n",
      "(34, 'AUDREY', 'OLIVIER', datetime.datetime(2006, 2, 15, 4, 34, 33))\n",
      "(35, 'JUDY', 'DEAN', datetime.datetime(2006, 2, 15, 4, 34, 33))\n",
      "(36, 'BURT', 'DUKAKIS', datetime.datetime(2006, 2, 15, 4, 34, 33))\n",
      "(37, 'VAL', 'BOLGER', datetime.datetime(2006, 2, 15, 4, 34, 33))\n",
      "(38, 'TOM', 'MCKELLEN', datetime.datetime(2006, 2, 15, 4, 34, 33))\n",
      "(39, 'GOLDIE', 'BRODY', datetime.datetime(2006, 2, 15, 4, 34, 33))\n",
      "(40, 'JOHNNY', 'CAGE', datetime.datetime(2006, 2, 15, 4, 34, 33))\n",
      "(41, 'JODIE', 'DEGENERES', datetime.datetime(2006, 2, 15, 4, 34, 33))\n",
      "(42, 'TOM', 'MIRANDA', datetime.datetime(2006, 2, 15, 4, 34, 33))\n",
      "(43, 'KIRK', 'JOVOVICH', datetime.datetime(2006, 2, 15, 4, 34, 33))\n",
      "(44, 'NICK', 'STALLONE', datetime.datetime(2006, 2, 15, 4, 34, 33))\n",
      "(45, 'REESE', 'KILMER', datetime.datetime(2006, 2, 15, 4, 34, 33))\n",
      "(46, 'PARKER', 'GOLDBERG', datetime.datetime(2006, 2, 15, 4, 34, 33))\n",
      "(47, 'JULIA', 'BARRYMORE', datetime.datetime(2006, 2, 15, 4, 34, 33))\n",
      "(48, 'FRANCES', 'DAY-LEWIS', datetime.datetime(2006, 2, 15, 4, 34, 33))\n",
      "(49, 'ANNE', 'CRONYN', datetime.datetime(2006, 2, 15, 4, 34, 33))\n",
      "(50, 'NATALIE', 'HOPKINS', datetime.datetime(2006, 2, 15, 4, 34, 33))\n",
      "(51, 'GARY', 'PHOENIX', datetime.datetime(2006, 2, 15, 4, 34, 33))\n",
      "(52, 'CARMEN', 'HUNT', datetime.datetime(2006, 2, 15, 4, 34, 33))\n",
      "(53, 'MENA', 'TEMPLE', datetime.datetime(2006, 2, 15, 4, 34, 33))\n",
      "(54, 'PENELOPE', 'PINKETT', datetime.datetime(2006, 2, 15, 4, 34, 33))\n",
      "(55, 'FAY', 'KILMER', datetime.datetime(2006, 2, 15, 4, 34, 33))\n",
      "(56, 'DAN', 'HARRIS', datetime.datetime(2006, 2, 15, 4, 34, 33))\n",
      "(57, 'JUDE', 'CRUISE', datetime.datetime(2006, 2, 15, 4, 34, 33))\n",
      "(58, 'CHRISTIAN', 'AKROYD', datetime.datetime(2006, 2, 15, 4, 34, 33))\n",
      "(59, 'DUSTIN', 'TAUTOU', datetime.datetime(2006, 2, 15, 4, 34, 33))\n",
      "(60, 'HENRY', 'BERRY', datetime.datetime(2006, 2, 15, 4, 34, 33))\n",
      "(61, 'CHRISTIAN', 'NEESON', datetime.datetime(2006, 2, 15, 4, 34, 33))\n",
      "(62, 'JAYNE', 'NEESON', datetime.datetime(2006, 2, 15, 4, 34, 33))\n",
      "(63, 'CAMERON', 'WRAY', datetime.datetime(2006, 2, 15, 4, 34, 33))\n",
      "(64, 'RAY', 'JOHANSSON', datetime.datetime(2006, 2, 15, 4, 34, 33))\n",
      "(65, 'ANGELA', 'HUDSON', datetime.datetime(2006, 2, 15, 4, 34, 33))\n",
      "(66, 'MARY', 'TANDY', datetime.datetime(2006, 2, 15, 4, 34, 33))\n",
      "(67, 'JESSICA', 'BAILEY', datetime.datetime(2006, 2, 15, 4, 34, 33))\n",
      "(68, 'RIP', 'WINSLET', datetime.datetime(2006, 2, 15, 4, 34, 33))\n",
      "(69, 'KENNETH', 'PALTROW', datetime.datetime(2006, 2, 15, 4, 34, 33))\n",
      "(70, 'MICHELLE', 'MCCONAUGHEY', datetime.datetime(2006, 2, 15, 4, 34, 33))\n",
      "(71, 'ADAM', 'GRANT', datetime.datetime(2006, 2, 15, 4, 34, 33))\n",
      "(72, 'SEAN', 'WILLIAMS', datetime.datetime(2006, 2, 15, 4, 34, 33))\n",
      "(73, 'GARY', 'PENN', datetime.datetime(2006, 2, 15, 4, 34, 33))\n",
      "(74, 'MILLA', 'KEITEL', datetime.datetime(2006, 2, 15, 4, 34, 33))\n",
      "(75, 'BURT', 'POSEY', datetime.datetime(2006, 2, 15, 4, 34, 33))\n",
      "(76, 'ANGELINA', 'ASTAIRE', datetime.datetime(2006, 2, 15, 4, 34, 33))\n",
      "(77, 'CARY', 'MCCONAUGHEY', datetime.datetime(2006, 2, 15, 4, 34, 33))\n",
      "(78, 'GROUCHO', 'SINATRA', datetime.datetime(2006, 2, 15, 4, 34, 33))\n",
      "(79, 'MAE', 'HOFFMAN', datetime.datetime(2006, 2, 15, 4, 34, 33))\n",
      "(80, 'RALPH', 'CRUZ', datetime.datetime(2006, 2, 15, 4, 34, 33))\n",
      "(81, 'SCARLETT', 'DAMON', datetime.datetime(2006, 2, 15, 4, 34, 33))\n",
      "(82, 'WOODY', 'JOLIE', datetime.datetime(2006, 2, 15, 4, 34, 33))\n",
      "(83, 'BEN', 'WILLIS', datetime.datetime(2006, 2, 15, 4, 34, 33))\n",
      "(84, 'JAMES', 'PITT', datetime.datetime(2006, 2, 15, 4, 34, 33))\n",
      "(85, 'MINNIE', 'ZELLWEGER', datetime.datetime(2006, 2, 15, 4, 34, 33))\n",
      "(86, 'GREG', 'CHAPLIN', datetime.datetime(2006, 2, 15, 4, 34, 33))\n",
      "(87, 'SPENCER', 'PECK', datetime.datetime(2006, 2, 15, 4, 34, 33))\n",
      "(88, 'KENNETH', 'PESCI', datetime.datetime(2006, 2, 15, 4, 34, 33))\n",
      "(89, 'CHARLIZE', 'DENCH', datetime.datetime(2006, 2, 15, 4, 34, 33))\n",
      "(90, 'SEAN', 'GUINESS', datetime.datetime(2006, 2, 15, 4, 34, 33))\n",
      "(91, 'CHRISTOPHER', 'BERRY', datetime.datetime(2006, 2, 15, 4, 34, 33))\n",
      "(92, 'KIRSTEN', 'AKROYD', datetime.datetime(2006, 2, 15, 4, 34, 33))\n",
      "(93, 'ELLEN', 'PRESLEY', datetime.datetime(2006, 2, 15, 4, 34, 33))\n",
      "(94, 'KENNETH', 'TORN', datetime.datetime(2006, 2, 15, 4, 34, 33))\n",
      "(95, 'DARYL', 'WAHLBERG', datetime.datetime(2006, 2, 15, 4, 34, 33))\n",
      "(96, 'GENE', 'WILLIS', datetime.datetime(2006, 2, 15, 4, 34, 33))\n",
      "(97, 'MEG', 'HAWKE', datetime.datetime(2006, 2, 15, 4, 34, 33))\n",
      "(98, 'CHRIS', 'BRIDGES', datetime.datetime(2006, 2, 15, 4, 34, 33))\n",
      "(99, 'JIM', 'MOSTEL', datetime.datetime(2006, 2, 15, 4, 34, 33))\n",
      "(100, 'SPENCER', 'DEPP', datetime.datetime(2006, 2, 15, 4, 34, 33))\n",
      "(101, 'SUSAN', 'DAVIS', datetime.datetime(2006, 2, 15, 4, 34, 33))\n",
      "(102, 'WALTER', 'TORN', datetime.datetime(2006, 2, 15, 4, 34, 33))\n",
      "(103, 'MATTHEW', 'LEIGH', datetime.datetime(2006, 2, 15, 4, 34, 33))\n",
      "(104, 'PENELOPE', 'CRONYN', datetime.datetime(2006, 2, 15, 4, 34, 33))\n",
      "(105, 'SIDNEY', 'CROWE', datetime.datetime(2006, 2, 15, 4, 34, 33))\n",
      "(106, 'GROUCHO', 'DUNST', datetime.datetime(2006, 2, 15, 4, 34, 33))\n",
      "(107, 'GINA', 'DEGENERES', datetime.datetime(2006, 2, 15, 4, 34, 33))\n",
      "(108, 'WARREN', 'NOLTE', datetime.datetime(2006, 2, 15, 4, 34, 33))\n",
      "(109, 'SYLVESTER', 'DERN', datetime.datetime(2006, 2, 15, 4, 34, 33))\n",
      "(110, 'SUSAN', 'DAVIS', datetime.datetime(2006, 2, 15, 4, 34, 33))\n",
      "(111, 'CAMERON', 'ZELLWEGER', datetime.datetime(2006, 2, 15, 4, 34, 33))\n",
      "(112, 'RUSSELL', 'BACALL', datetime.datetime(2006, 2, 15, 4, 34, 33))\n",
      "(113, 'MORGAN', 'HOPKINS', datetime.datetime(2006, 2, 15, 4, 34, 33))\n",
      "(114, 'MORGAN', 'MCDORMAND', datetime.datetime(2006, 2, 15, 4, 34, 33))\n",
      "(115, 'HARRISON', 'BALE', datetime.datetime(2006, 2, 15, 4, 34, 33))\n",
      "(116, 'DAN', 'STREEP', datetime.datetime(2006, 2, 15, 4, 34, 33))\n",
      "(117, 'RENEE', 'TRACY', datetime.datetime(2006, 2, 15, 4, 34, 33))\n",
      "(118, 'CUBA', 'ALLEN', datetime.datetime(2006, 2, 15, 4, 34, 33))\n",
      "(119, 'WARREN', 'JACKMAN', datetime.datetime(2006, 2, 15, 4, 34, 33))\n",
      "(120, 'PENELOPE', 'MONROE', datetime.datetime(2006, 2, 15, 4, 34, 33))\n",
      "(121, 'LIZA', 'BERGMAN', datetime.datetime(2006, 2, 15, 4, 34, 33))\n",
      "(122, 'SALMA', 'NOLTE', datetime.datetime(2006, 2, 15, 4, 34, 33))\n",
      "(123, 'JULIANNE', 'DENCH', datetime.datetime(2006, 2, 15, 4, 34, 33))\n",
      "(124, 'SCARLETT', 'BENING', datetime.datetime(2006, 2, 15, 4, 34, 33))\n",
      "(125, 'ALBERT', 'NOLTE', datetime.datetime(2006, 2, 15, 4, 34, 33))\n",
      "(126, 'FRANCES', 'TOMEI', datetime.datetime(2006, 2, 15, 4, 34, 33))\n",
      "(127, 'KEVIN', 'GARLAND', datetime.datetime(2006, 2, 15, 4, 34, 33))\n",
      "(128, 'CATE', 'MCQUEEN', datetime.datetime(2006, 2, 15, 4, 34, 33))\n",
      "(129, 'DARYL', 'CRAWFORD', datetime.datetime(2006, 2, 15, 4, 34, 33))\n",
      "(130, 'GRETA', 'KEITEL', datetime.datetime(2006, 2, 15, 4, 34, 33))\n",
      "(131, 'JANE', 'JACKMAN', datetime.datetime(2006, 2, 15, 4, 34, 33))\n",
      "(132, 'ADAM', 'HOPPER', datetime.datetime(2006, 2, 15, 4, 34, 33))\n",
      "(133, 'RICHARD', 'PENN', datetime.datetime(2006, 2, 15, 4, 34, 33))\n",
      "(134, 'GENE', 'HOPKINS', datetime.datetime(2006, 2, 15, 4, 34, 33))\n",
      "(135, 'RITA', 'REYNOLDS', datetime.datetime(2006, 2, 15, 4, 34, 33))\n",
      "(136, 'ED', 'MANSFIELD', datetime.datetime(2006, 2, 15, 4, 34, 33))\n",
      "(137, 'MORGAN', 'WILLIAMS', datetime.datetime(2006, 2, 15, 4, 34, 33))\n",
      "(138, 'LUCILLE', 'DEE', datetime.datetime(2006, 2, 15, 4, 34, 33))\n",
      "(139, 'EWAN', 'GOODING', datetime.datetime(2006, 2, 15, 4, 34, 33))\n",
      "(140, 'WHOOPI', 'HURT', datetime.datetime(2006, 2, 15, 4, 34, 33))\n",
      "(141, 'CATE', 'HARRIS', datetime.datetime(2006, 2, 15, 4, 34, 33))\n",
      "(142, 'JADA', 'RYDER', datetime.datetime(2006, 2, 15, 4, 34, 33))\n",
      "(143, 'RIVER', 'DEAN', datetime.datetime(2006, 2, 15, 4, 34, 33))\n",
      "(144, 'ANGELA', 'WITHERSPOON', datetime.datetime(2006, 2, 15, 4, 34, 33))\n",
      "(145, 'KIM', 'ALLEN', datetime.datetime(2006, 2, 15, 4, 34, 33))\n",
      "(146, 'ALBERT', 'JOHANSSON', datetime.datetime(2006, 2, 15, 4, 34, 33))\n",
      "(147, 'FAY', 'WINSLET', datetime.datetime(2006, 2, 15, 4, 34, 33))\n",
      "(148, 'EMILY', 'DEE', datetime.datetime(2006, 2, 15, 4, 34, 33))\n",
      "(149, 'RUSSELL', 'TEMPLE', datetime.datetime(2006, 2, 15, 4, 34, 33))\n",
      "(150, 'JAYNE', 'NOLTE', datetime.datetime(2006, 2, 15, 4, 34, 33))\n",
      "(151, 'GEOFFREY', 'HESTON', datetime.datetime(2006, 2, 15, 4, 34, 33))\n",
      "(152, 'BEN', 'HARRIS', datetime.datetime(2006, 2, 15, 4, 34, 33))\n",
      "(153, 'MINNIE', 'KILMER', datetime.datetime(2006, 2, 15, 4, 34, 33))\n",
      "(154, 'MERYL', 'GIBSON', datetime.datetime(2006, 2, 15, 4, 34, 33))\n",
      "(155, 'IAN', 'TANDY', datetime.datetime(2006, 2, 15, 4, 34, 33))\n",
      "(156, 'FAY', 'WOOD', datetime.datetime(2006, 2, 15, 4, 34, 33))\n",
      "(157, 'GRETA', 'MALDEN', datetime.datetime(2006, 2, 15, 4, 34, 33))\n",
      "(158, 'VIVIEN', 'BASINGER', datetime.datetime(2006, 2, 15, 4, 34, 33))\n",
      "(159, 'LAURA', 'BRODY', datetime.datetime(2006, 2, 15, 4, 34, 33))\n",
      "(160, 'CHRIS', 'DEPP', datetime.datetime(2006, 2, 15, 4, 34, 33))\n",
      "(161, 'HARVEY', 'HOPE', datetime.datetime(2006, 2, 15, 4, 34, 33))\n",
      "(162, 'OPRAH', 'KILMER', datetime.datetime(2006, 2, 15, 4, 34, 33))\n",
      "(163, 'CHRISTOPHER', 'WEST', datetime.datetime(2006, 2, 15, 4, 34, 33))\n",
      "(164, 'HUMPHREY', 'WILLIS', datetime.datetime(2006, 2, 15, 4, 34, 33))\n",
      "(165, 'AL', 'GARLAND', datetime.datetime(2006, 2, 15, 4, 34, 33))\n",
      "(166, 'NICK', 'DEGENERES', datetime.datetime(2006, 2, 15, 4, 34, 33))\n",
      "(167, 'LAURENCE', 'BULLOCK', datetime.datetime(2006, 2, 15, 4, 34, 33))\n",
      "(168, 'WILL', 'WILSON', datetime.datetime(2006, 2, 15, 4, 34, 33))\n",
      "(169, 'KENNETH', 'HOFFMAN', datetime.datetime(2006, 2, 15, 4, 34, 33))\n",
      "(170, 'MENA', 'HOPPER', datetime.datetime(2006, 2, 15, 4, 34, 33))\n",
      "(171, 'OLYMPIA', 'PFEIFFER', datetime.datetime(2006, 2, 15, 4, 34, 33))\n",
      "(172, 'GROUCHO', 'WILLIAMS', datetime.datetime(2006, 2, 15, 4, 34, 33))\n",
      "(173, 'ALAN', 'DREYFUSS', datetime.datetime(2006, 2, 15, 4, 34, 33))\n",
      "(174, 'MICHAEL', 'BENING', datetime.datetime(2006, 2, 15, 4, 34, 33))\n",
      "(175, 'WILLIAM', 'HACKMAN', datetime.datetime(2006, 2, 15, 4, 34, 33))\n",
      "(176, 'JON', 'CHASE', datetime.datetime(2006, 2, 15, 4, 34, 33))\n",
      "(177, 'GENE', 'MCKELLEN', datetime.datetime(2006, 2, 15, 4, 34, 33))\n",
      "(178, 'LISA', 'MONROE', datetime.datetime(2006, 2, 15, 4, 34, 33))\n",
      "(179, 'ED', 'GUINESS', datetime.datetime(2006, 2, 15, 4, 34, 33))\n",
      "(180, 'JEFF', 'SILVERSTONE', datetime.datetime(2006, 2, 15, 4, 34, 33))\n",
      "(181, 'MATTHEW', 'CARREY', datetime.datetime(2006, 2, 15, 4, 34, 33))\n",
      "(182, 'DEBBIE', 'AKROYD', datetime.datetime(2006, 2, 15, 4, 34, 33))\n",
      "(183, 'RUSSELL', 'CLOSE', datetime.datetime(2006, 2, 15, 4, 34, 33))\n",
      "(184, 'HUMPHREY', 'GARLAND', datetime.datetime(2006, 2, 15, 4, 34, 33))\n",
      "(185, 'MICHAEL', 'BOLGER', datetime.datetime(2006, 2, 15, 4, 34, 33))\n",
      "(186, 'JULIA', 'ZELLWEGER', datetime.datetime(2006, 2, 15, 4, 34, 33))\n",
      "(187, 'RENEE', 'BALL', datetime.datetime(2006, 2, 15, 4, 34, 33))\n",
      "(188, 'ROCK', 'DUKAKIS', datetime.datetime(2006, 2, 15, 4, 34, 33))\n",
      "(189, 'CUBA', 'BIRCH', datetime.datetime(2006, 2, 15, 4, 34, 33))\n",
      "(190, 'AUDREY', 'BAILEY', datetime.datetime(2006, 2, 15, 4, 34, 33))\n",
      "(191, 'GREGORY', 'GOODING', datetime.datetime(2006, 2, 15, 4, 34, 33))\n",
      "(192, 'JOHN', 'SUVARI', datetime.datetime(2006, 2, 15, 4, 34, 33))\n",
      "(193, 'BURT', 'TEMPLE', datetime.datetime(2006, 2, 15, 4, 34, 33))\n",
      "(194, 'MERYL', 'ALLEN', datetime.datetime(2006, 2, 15, 4, 34, 33))\n",
      "(195, 'JAYNE', 'SILVERSTONE', datetime.datetime(2006, 2, 15, 4, 34, 33))\n",
      "(196, 'BELA', 'WALKEN', datetime.datetime(2006, 2, 15, 4, 34, 33))\n",
      "(197, 'REESE', 'WEST', datetime.datetime(2006, 2, 15, 4, 34, 33))\n",
      "(198, 'MARY', 'KEITEL', datetime.datetime(2006, 2, 15, 4, 34, 33))\n",
      "(199, 'JULIA', 'FAWCETT', datetime.datetime(2006, 2, 15, 4, 34, 33))\n",
      "(200, 'THORA', 'TEMPLE', datetime.datetime(2006, 2, 15, 4, 34, 33))\n"
     ]
    }
   ],
   "source": [
    "for i in mycursor:\n",
    "    print(i)"
   ]
  },
  {
   "cell_type": "code",
   "execution_count": 10,
   "metadata": {},
   "outputs": [],
   "source": [
    "mycursor = mydb.cursor()\n",
    "mycursor.execute(\"CREATE TABLE actorinfo (name VARCHAR(255),age INT(3), address VARCHAR(500))\")"
   ]
  },
  {
   "cell_type": "code",
   "execution_count": 11,
   "metadata": {},
   "outputs": [
    {
     "name": "stdout",
     "output_type": "stream",
     "text": [
      "('actor',)\n",
      "('actor_info',)\n",
      "('actorinfo',)\n",
      "('address',)\n",
      "('category',)\n",
      "('city',)\n",
      "('country',)\n",
      "('customer',)\n",
      "('customer_list',)\n",
      "('film',)\n",
      "('film_actor',)\n",
      "('film_category',)\n",
      "('film_list',)\n",
      "('film_text',)\n",
      "('inventory',)\n",
      "('language',)\n",
      "('nicer_but_slower_film_list',)\n",
      "('payment',)\n",
      "('rental',)\n",
      "('sales_by_film_category',)\n",
      "('sales_by_store',)\n",
      "('staff',)\n",
      "('staff_list',)\n",
      "('store',)\n"
     ]
    }
   ],
   "source": [
    "mycursor = mydb.cursor()\n",
    "mycursor.execute(\"SHOW TABLES\")\n",
    "\n",
    "for i in mycursor:\n",
    "    print(i)"
   ]
  },
  {
   "cell_type": "code",
   "execution_count": 12,
   "metadata": {},
   "outputs": [],
   "source": [
    "mycursor = mydb.cursor()\n",
    "mycursor.execute(\"ALTER TABLE actor ADD COLUMN new varchar(10)\")"
   ]
  },
  {
   "cell_type": "code",
   "execution_count": 13,
   "metadata": {},
   "outputs": [
    {
     "name": "stdout",
     "output_type": "stream",
     "text": [
      "('actor_id', b'smallint unsigned', 'NO', 'PRI', None, 'auto_increment')\n",
      "('first_name', b'varchar(45)', 'NO', '', None, '')\n",
      "('last_name', b'varchar(45)', 'NO', 'MUL', None, '')\n",
      "('last_update', b'timestamp', 'NO', '', b'CURRENT_TIMESTAMP', 'DEFAULT_GENERATED on update CURRENT_TIMESTAMP')\n",
      "('new', b'varchar(10)', 'YES', '', None, '')\n"
     ]
    }
   ],
   "source": [
    "mycursor = mydb.cursor()\n",
    "mycursor.execute(\"DESCRIBE actor\")\n",
    "for i in mycursor:\n",
    "    print(i)"
   ]
  },
  {
   "cell_type": "code",
   "execution_count": 14,
   "metadata": {},
   "outputs": [],
   "source": [
    "#deleting table\n",
    "mycursor = mydb.cursor()\n",
    "mycursor.execute(\"DROP TABLE actorinfo\")"
   ]
  },
  {
   "cell_type": "code",
   "execution_count": 15,
   "metadata": {},
   "outputs": [],
   "source": [
    "mycursor = mydb.cursor()\n",
    "mycursor.execute(\"SHOW TABLES\")"
   ]
  },
  {
   "cell_type": "code",
   "execution_count": 16,
   "metadata": {},
   "outputs": [
    {
     "name": "stdout",
     "output_type": "stream",
     "text": [
      "('actor',)\n",
      "('actor_info',)\n",
      "('address',)\n",
      "('category',)\n",
      "('city',)\n",
      "('country',)\n",
      "('customer',)\n",
      "('customer_list',)\n",
      "('film',)\n",
      "('film_actor',)\n",
      "('film_category',)\n",
      "('film_list',)\n",
      "('film_text',)\n",
      "('inventory',)\n",
      "('language',)\n",
      "('nicer_but_slower_film_list',)\n",
      "('payment',)\n",
      "('rental',)\n",
      "('sales_by_film_category',)\n",
      "('sales_by_store',)\n",
      "('staff',)\n",
      "('staff_list',)\n",
      "('store',)\n"
     ]
    }
   ],
   "source": [
    "for i in mycursor:\n",
    "    print(i)"
   ]
  },
  {
   "cell_type": "code",
   "execution_count": null,
   "metadata": {},
   "outputs": [],
   "source": []
  }
 ],
 "metadata": {
  "kernelspec": {
   "display_name": "Python 3",
   "language": "python",
   "name": "python3"
  },
  "language_info": {
   "codemirror_mode": {
    "name": "ipython",
    "version": 3
   },
   "file_extension": ".py",
   "mimetype": "text/x-python",
   "name": "python",
   "nbconvert_exporter": "python",
   "pygments_lexer": "ipython3",
   "version": "3.7.6"
  }
 },
 "nbformat": 4,
 "nbformat_minor": 4
}
